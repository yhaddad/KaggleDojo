{
 "cells": [
  {
   "cell_type": "code",
   "execution_count": 1,
   "metadata": {
    "collapsed": false,
    "deletable": true,
    "editable": true
   },
   "outputs": [],
   "source": [
    "import urllib, json, objectpath\n",
    "from pprint import pprint"
   ]
  },
  {
   "cell_type": "code",
   "execution_count": 2,
   "metadata": {
    "collapsed": true,
    "deletable": true,
    "editable": true
   },
   "outputs": [],
   "source": [
    "def get_data(route):\n",
    "    response = urllib.urlopen('http://pendlr.risc-software.at/log?id=[\"%s\"]&num=10000' % route)\n",
    "    data = json.loads(response.read())\n",
    "    tree_obj = objectpath.Tree(data)\n",
    "    return tuple(tree_obj.execute('$..entries'))\n",
    "def get_route():\n",
    "    response = urllib.urlopen('http://pendlr.risc-software.at/log?num=10000')\n",
    "    data = json.loads(response.read())\n",
    "    tree_obj = objectpath.Tree(data)\n",
    "    return tuple(tree_obj.execute('$..id'))"
   ]
  },
  {
   "cell_type": "markdown",
   "metadata": {
    "deletable": true,
    "editable": true
   },
   "source": [
    "The methods above will return json files with the relevent inforamtion, the routes names and the corresponding json.\n",
    "\n",
    "Todo:\n",
    "* Get the direction and see which route in close to another\n",
    "* Merge the current traffic data with the weather data \n",
    "* make correlations between weather and traffic"
   ]
  },
  {
   "cell_type": "code",
   "execution_count": 3,
   "metadata": {
    "collapsed": false,
    "deletable": true,
    "editable": true
   },
   "outputs": [
    {
     "name": "stdout",
     "output_type": "stream",
     "text": [
      "-- route :  cur.einwaerts.haselgraben.traffic.risc-software.at\n",
      "-- route :  cur.urfahr.b127.traffic.risc-software.at\n",
      "-- route :  cur.traun.b1.traffic.risc-software.at\n",
      "-- route :  cur.bindermichl.b1.traffic.risc-software.at\n",
      "-- route :  cur.auswaerts.bindermichl.traffic.risc-software.at\n",
      "-- route :  cur.linz.steyreggerbruecke.traffic.risc-software.at\n",
      "-- route :  cur.linz.autobahnbruecke.traffic.risc-software.at\n",
      "-- route :  cur.haid.knotenlinz.traffic.risc-software.at\n",
      "-- route :  cur.wilhering.b129.traffic.risc-software.at\n",
      "-- route :  cur.einwaerts.bindermichl.traffic.risc-software.at\n",
      "-- route :  cur.steyregg.steyreggerbruecke.traffic.risc-software.at\n",
      "-- route :  cur.urfahr.autobahnbruecke.traffic.risc-software.at\n",
      "-- route :  cur.rohrbach.b127.traffic.risc-software.at\n",
      "-- route :  cur.florianerstrasse.knotenlinz.traffic.risc-software.at\n",
      "-- route :  cur.zentrum.nibelungenbruecke.traffic.risc-software.at\n",
      "-- route :  cur.franzosenhausweg.knotenlinz.traffic.risc-software.at\n",
      "-- route :  cur.auswaerts.haselgraben.traffic.risc-software.at\n",
      "-- route :  cur.urfahr.nibelungenbruecke.traffic.risc-software.at\n",
      "-- route :  cur.zentrum.b129.traffic.risc-software.at\n"
     ]
    }
   ],
   "source": [
    "routes = get_route()\n",
    "cur_data   = {}\n",
    "\n",
    "for r in routes :\n",
    "    if 'cur.' in r:\n",
    "        print \"-- route : \", r\n",
    "        cur_data[r] = get_data(r)"
   ]
  },
  {
   "cell_type": "code",
   "execution_count": 4,
   "metadata": {
    "collapsed": false,
    "deletable": true,
    "editable": true
   },
   "outputs": [
    {
     "name": "stdout",
     "output_type": "stream",
     "text": [
      "{u'data': {u'attrs': {u'average_speed': 57.6,\n",
      "                      u'delay': 375,\n",
      "                      u'delayed_average_speed': 36.0,\n",
      "                      u'distance': [10002],\n",
      "                      u'duration': [622],\n",
      "                      u'duration_in_traffic': [997],\n",
      "                      u'total_distance': 10002,\n",
      "                      u'total_duration': 622,\n",
      "                      u'total_duration_in_traffic': 997},\n",
      "           u'nip': u'193.170.32.31',\n",
      "           u'o_id': u'cur.urfahr.b127.traffic.risc-software.at'},\n",
      " u'latency': 310568,\n",
      " u'ts': 1484113200000}\n",
      "{u'data': {u'attrs': {u'average_speed': 54.0,\n",
      "                      u'delay': 16,\n",
      "                      u'delayed_average_speed': 54.0,\n",
      "                      u'distance': [9988],\n",
      "                      u'duration': [625],\n",
      "                      u'duration_in_traffic': [641],\n",
      "                      u'total_distance': 9988,\n",
      "                      u'total_duration': 625,\n",
      "                      u'total_duration_in_traffic': 641},\n",
      "           u'nip': u'193.170.32.31',\n",
      "           u'o_id': u'cur.rohrbach.b127.traffic.risc-software.at'},\n",
      " u'latency': 308676,\n",
      " u'ts': 1484114400000}\n",
      "'---------------------'\n",
      "{u'data': {u'attrs': {u'average_speed': 39.6,\n",
      "                      u'delay': 0,\n",
      "                      u'delayed_average_speed': 43.2,\n",
      "                      u'distance': [4316],\n",
      "                      u'duration': [362],\n",
      "                      u'duration_in_traffic': [356],\n",
      "                      u'total_distance': 4316,\n",
      "                      u'total_duration': 362,\n",
      "                      u'total_duration_in_traffic': 356},\n",
      "           u'nip': u'193.170.32.31',\n",
      "           u'o_id': u'cur.wilhering.b129.traffic.risc-software.at'},\n",
      " u'latency': 312920,\n",
      " u'ts': 1484114400000}\n",
      "{u'data': {u'attrs': {u'average_speed': 39.6,\n",
      "                      u'delay': 59,\n",
      "                      u'delayed_average_speed': 32.4,\n",
      "                      u'distance': [4084],\n",
      "                      u'duration': [358],\n",
      "                      u'duration_in_traffic': [417],\n",
      "                      u'total_distance': 4084,\n",
      "                      u'total_duration': 358,\n",
      "                      u'total_duration_in_traffic': 417},\n",
      "           u'nip': u'193.170.32.31',\n",
      "           u'o_id': u'cur.zentrum.b129.traffic.risc-software.at'},\n",
      " u'latency': 312383,\n",
      " u'ts': 1484114400000}\n"
     ]
    }
   ],
   "source": [
    "pprint(cur_data['cur.urfahr.b127.traffic.risc-software.at'  ][0])\n",
    "pprint(cur_data['cur.rohrbach.b127.traffic.risc-software.at'][0])\n",
    "pprint(\"---------------------\")\n",
    "pprint(cur_data['cur.wilhering.b129.traffic.risc-software.at' ][0])\n",
    "pprint(cur_data['cur.zentrum.b129.traffic.risc-software.at'   ][0])"
   ]
  },
  {
   "cell_type": "markdown",
   "metadata": {
    "deletable": true,
    "editable": true
   },
   "source": [
    "From these output, we can see that that the usefull features would be the following:\n",
    "\n",
    "```json\n",
    "{u'attrs': {\n",
    "      'average_speed'            : 39.6,\n",
    "      'delay'                    : 8,\n",
    "      'delayed_average_speed'    : 39.6,\n",
    "      'total_distance'           : 4084,\n",
    "      'total_duration'           : 359,\n",
    "      'total_duration_in_traffic': 367\n",
    "      }\n",
    "}\n",
    "```\n",
    "\n",
    "For example the `total_duration` and `duration` are shown be on the same values. So one question rises, why `duration` here is a list and why it has the same value as the total one. "
   ]
  },
  {
   "cell_type": "code",
   "execution_count": 5,
   "metadata": {
    "collapsed": false,
    "deletable": true,
    "editable": true
   },
   "outputs": [],
   "source": [
    "import pandas as pd \n",
    "from pandas.io.json import json_normalize"
   ]
  },
  {
   "cell_type": "code",
   "execution_count": 6,
   "metadata": {
    "collapsed": false,
    "deletable": true,
    "editable": true
   },
   "outputs": [
    {
     "name": "stdout",
     "output_type": "stream",
     "text": [
      "-- route :  cur.wilhering.b129.traffic.risc-software.at\n",
      "-- route :  cur.steyregg.steyreggerbruecke.traffic.risc-software.at\n",
      "-- route :  cur.haid.knotenlinz.traffic.risc-software.at\n",
      "-- route :  cur.bindermichl.b1.traffic.risc-software.at\n",
      "-- route :  cur.urfahr.autobahnbruecke.traffic.risc-software.at\n",
      "-- route :  cur.linz.autobahnbruecke.traffic.risc-software.at\n",
      "-- route :  cur.urfahr.nibelungenbruecke.traffic.risc-software.at\n",
      "-- route :  cur.urfahr.b127.traffic.risc-software.at\n",
      "-- route :  cur.rohrbach.b127.traffic.risc-software.at\n",
      "-- route :  cur.auswaerts.bindermichl.traffic.risc-software.at\n",
      "-- route :  cur.franzosenhausweg.knotenlinz.traffic.risc-software.at\n",
      "-- route :  cur.florianerstrasse.knotenlinz.traffic.risc-software.at\n",
      "-- route :  cur.zentrum.b129.traffic.risc-software.at\n",
      "-- route :  cur.zentrum.nibelungenbruecke.traffic.risc-software.at\n",
      "-- route :  cur.linz.steyreggerbruecke.traffic.risc-software.at\n",
      "-- route :  cur.einwaerts.haselgraben.traffic.risc-software.at\n",
      "-- route :  cur.einwaerts.bindermichl.traffic.risc-software.at\n",
      "-- route :  cur.traun.b1.traffic.risc-software.at\n",
      "-- route :  cur.auswaerts.haselgraben.traffic.risc-software.at\n"
     ]
    }
   ],
   "source": [
    "cur_df = {}\n",
    "for c in cur_data:\n",
    "    print '-- route : ', c\n",
    "    cur_df[c] = json_normalize(cur_data[c])"
   ]
  },
  {
   "cell_type": "code",
   "execution_count": 7,
   "metadata": {
    "collapsed": false,
    "deletable": true,
    "editable": true
   },
   "outputs": [
    {
     "name": "stdout",
     "output_type": "stream",
     "text": [
      "Working on IUPPERAU8\n",
      "Working on date: 2017-01-10 00:00:00 for station IUPPERAU8\n",
      "Working on date: 2017-01-20 00:00:00 for station IUPPERAU8\n",
      "Working on date: 2017-01-30 00:00:00 for station IUPPERAU8\n",
      "Working on date: 2017-02-10 00:00:00 for station IUPPERAU8\n",
      "Working on date: 2017-02-20 00:00:00 for station IUPPERAU8\n",
      "Working on date: 2017-03-10 00:00:00 for station IUPPERAU8\n"
     ]
    }
   ],
   "source": [
    "import requests\n",
    "import io\n",
    "import pandas as pd\n",
    "from dateutil import parser, rrule\n",
    "from datetime import datetime, time, date\n",
    "import time\n",
    "\n",
    "def getRainfallData(station, day, month, year):\n",
    "    \"\"\"\n",
    "    Function to return a data frame of minute-level weather data for a single Wunderground PWS station.\n",
    "    \n",
    "    Args:\n",
    "        station (string): Station code from the Wunderground website\n",
    "        day (int): Day of month for which data is requested\n",
    "        month (int): Month for which data is requested\n",
    "        year (int): Year for which data is requested\n",
    "    \n",
    "    Returns:\n",
    "        Pandas Dataframe with weather data for specified station and date.\n",
    "    \"\"\"\n",
    "    url = \"http://www.wunderground.com/weatherstation/WXDailyHistory.asp?ID={station}&day={day}&month={month}&year={year}&graphspan=day&format=1\"\n",
    "    full_url = url.format(station=station, day=day, month=month, year=year)\n",
    "    # print full_url\n",
    "    # Request data from wunderground data\n",
    "    response = requests.get(full_url, headers={'User-agent': 'Mozilla/5.0 (Windows NT 6.1) AppleWebKit/537.36 (KHTML, like Gecko) Chrome/41.0.2228.0 Safari/537.36'})\n",
    "    data = response.text\n",
    "    data = data.replace('<br>', '')\n",
    "    dataframe = pd.read_csv(io.StringIO(data), index_col=False)\n",
    "    dataframe['station'] = station\n",
    "    return dataframe\n",
    "    \n",
    "# Generate a list of all of the dates we want data for\n",
    "start_date = \"2017-01-01\"\n",
    "end_date   = \"2017-03-15\"\n",
    "start = parser.parse(start_date)\n",
    "end = parser.parse(end_date)\n",
    "dates = list(rrule.rrule(rrule.DAILY, dtstart=start, until=end))\n",
    "\n",
    "# Create a list of stations here to download data for\n",
    "stations = [\n",
    "    'IUPPERAU8'\n",
    "]\n",
    "\n",
    "# # Set a backoff time in seconds if a request fails\n",
    "backoff_time = 10\n",
    "data = {}\n",
    "# Gather data for each station in turn and save to CSV.\n",
    "for station in stations:\n",
    "    print(\"Working on {}\".format(station))\n",
    "    data[station] = []\n",
    "    for date in dates:\n",
    "        # Print period status update messages\n",
    "        if date.day % 10 == 0:\n",
    "            print(\"Working on date: {} for station {}\".format(date, station))\n",
    "        done = False\n",
    "        while done == False:\n",
    "            try:\n",
    "                weather_data = getRainfallData(station, date.day, date.month, date.year)\n",
    "                done = True\n",
    "            except ConnectionError as e:\n",
    "                # May get rate limited by Wunderground.com, backoff if so.\n",
    "                print(\"Got connection error on {}\".format(date))\n",
    "                print(\"Will retry in {} seconds\".format(backoff_time))\n",
    "                time.sleep(10)\n",
    "        # Add each processed date to the overall data\n",
    "        data[station].append(weather_data)\n",
    "    # Finally combine all of the individual days and output to CSV for analysis.\n",
    "    pd.concat(data[station]).to_csv(\"{}_weather.csv\".format(station))\n",
    "    "
   ]
  },
  {
   "cell_type": "code",
   "execution_count": 8,
   "metadata": {
    "collapsed": false,
    "deletable": true,
    "editable": true
   },
   "outputs": [],
   "source": [
    "df_weather = pd.concat(data['IUPPERAU8'],ignore_index=True)"
   ]
  },
  {
   "cell_type": "markdown",
   "metadata": {
    "deletable": true,
    "editable": true
   },
   "source": [
    "After the normalisation of the json file, to make it easy to read, someone can use one root to extract the all the available features. But earlier we showed the most interetsing features so we are going to take those as the feature that we want to analyse"
   ]
  },
  {
   "cell_type": "code",
   "execution_count": 9,
   "metadata": {
    "collapsed": false,
    "deletable": true,
    "editable": true
   },
   "outputs": [],
   "source": [
    "feat_traffic =  [\n",
    "    'time',\n",
    "    'data.attrs.delay'                    ,\n",
    "    'data.attrs.average_speed'            ,\n",
    "    'data.attrs.delayed_average_speed'    ,\n",
    "    'data.attrs.total_distance'           ,\n",
    "    'data.attrs.total_duration'           ,\n",
    "    'data.attrs.total_duration_in_traffic'\n",
    "]\n",
    "feat_weather =  [\n",
    "    'time', \n",
    "    'TemperatureC', \n",
    "    'DewpointC', \n",
    "    'PressurehPa', \n",
    "    'WindDirectionDegrees', \n",
    "    'WindSpeedKMH', \n",
    "    'WindSpeedGustKMH',\n",
    "    'Humidity', \n",
    "    'HourlyPrecipMM', \n",
    "    'dailyrainMM'\n",
    "]"
   ]
  },
  {
   "cell_type": "markdown",
   "metadata": {
    "deletable": true,
    "editable": true
   },
   "source": [
    "### Running an example on just one route\n",
    "\n",
    "let selection the `b129` root one of busiest route,"
   ]
  },
  {
   "cell_type": "code",
   "execution_count": 10,
   "metadata": {
    "collapsed": false,
    "deletable": true,
    "editable": true
   },
   "outputs": [],
   "source": [
    "import numpy as np\n",
    "df_traffic = cur_df['cur.zentrum.b129.traffic.risc-software.at']\n",
    "df_traffic['time'] = pd.to_datetime(df_traffic['ts']/1000.0, unit='s')\n",
    "df_traffic = df_traffic[feat_traffic]\n",
    "\n",
    "df_weather[\"time\"] = pd.to_datetime(df_weather['Time'], format='%Y-%m-%d %H:%M:%S')\n",
    "df_weather = df_weather[feat_weather]"
   ]
  },
  {
   "cell_type": "code",
   "execution_count": 11,
   "metadata": {
    "collapsed": false,
    "deletable": true,
    "editable": true
   },
   "outputs": [],
   "source": [
    "import time\n",
    "from dateutil import parser, rrule\n",
    "from datetime import datetime, time, date\n",
    "\n",
    "def uniformise_dataframe(data = pd.DataFrame()):\n",
    "    print \"shape :: \", data.shape\n",
    "    data_copy = data\n",
    "    data_copy.is_copy = False\n",
    "    data_copy['hour'] = data_copy.time.apply(lambda x: datetime(x.year, x.month, x.day, x.hour) )\n",
    "    data_copy = data_copy.reset_index().groupby(['hour']).mean()\n",
    "    data_copy.reset_index(inplace=True)\n",
    "    data_copy = data_copy.set_index(data_copy.hour.values)\n",
    "    data_copy = data_copy.drop('hour' , 1)\n",
    "    data_copy = data_copy.drop('index', 1)\n",
    "    return data_copy"
   ]
  },
  {
   "cell_type": "code",
   "execution_count": 12,
   "metadata": {
    "collapsed": false,
    "deletable": true,
    "editable": true
   },
   "outputs": [
    {
     "name": "stdout",
     "output_type": "stream",
     "text": [
      "shape ::  (5007, 10)\n"
     ]
    },
    {
     "data": {
      "text/html": [
       "<div>\n",
       "<table border=\"1\" class=\"dataframe\">\n",
       "  <thead>\n",
       "    <tr style=\"text-align: right;\">\n",
       "      <th></th>\n",
       "      <th>TemperatureC</th>\n",
       "      <th>DewpointC</th>\n",
       "      <th>PressurehPa</th>\n",
       "      <th>WindDirectionDegrees</th>\n",
       "      <th>WindSpeedKMH</th>\n",
       "      <th>WindSpeedGustKMH</th>\n",
       "      <th>Humidity</th>\n",
       "      <th>HourlyPrecipMM</th>\n",
       "      <th>dailyrainMM</th>\n",
       "    </tr>\n",
       "  </thead>\n",
       "  <tbody>\n",
       "    <tr>\n",
       "      <th>2017-01-01 00:00:00</th>\n",
       "      <td>-3.200000</td>\n",
       "      <td>-6.300000</td>\n",
       "      <td>1029.500000</td>\n",
       "      <td>90.0</td>\n",
       "      <td>1.0</td>\n",
       "      <td>-1607.4</td>\n",
       "      <td>84.0</td>\n",
       "      <td>-2539.7</td>\n",
       "      <td>-2539.7</td>\n",
       "    </tr>\n",
       "    <tr>\n",
       "      <th>2017-01-01 01:00:00</th>\n",
       "      <td>-3.200000</td>\n",
       "      <td>-6.300000</td>\n",
       "      <td>1029.000000</td>\n",
       "      <td>90.0</td>\n",
       "      <td>1.0</td>\n",
       "      <td>-1607.4</td>\n",
       "      <td>84.0</td>\n",
       "      <td>-2539.7</td>\n",
       "      <td>-2539.7</td>\n",
       "    </tr>\n",
       "    <tr>\n",
       "      <th>2017-01-01 02:00:00</th>\n",
       "      <td>-4.200000</td>\n",
       "      <td>-7.300000</td>\n",
       "      <td>1028.000000</td>\n",
       "      <td>90.0</td>\n",
       "      <td>1.0</td>\n",
       "      <td>-1607.4</td>\n",
       "      <td>84.0</td>\n",
       "      <td>-2539.7</td>\n",
       "      <td>-2539.7</td>\n",
       "    </tr>\n",
       "    <tr>\n",
       "      <th>2017-01-01 03:00:00</th>\n",
       "      <td>-4.400000</td>\n",
       "      <td>-7.500000</td>\n",
       "      <td>1027.150000</td>\n",
       "      <td>90.0</td>\n",
       "      <td>1.0</td>\n",
       "      <td>-1607.4</td>\n",
       "      <td>84.0</td>\n",
       "      <td>-2539.7</td>\n",
       "      <td>-2539.7</td>\n",
       "    </tr>\n",
       "    <tr>\n",
       "      <th>2017-01-01 04:00:00</th>\n",
       "      <td>-4.433333</td>\n",
       "      <td>-7.533333</td>\n",
       "      <td>1026.733333</td>\n",
       "      <td>90.0</td>\n",
       "      <td>1.0</td>\n",
       "      <td>-1607.4</td>\n",
       "      <td>84.0</td>\n",
       "      <td>-2539.7</td>\n",
       "      <td>-2539.7</td>\n",
       "    </tr>\n",
       "  </tbody>\n",
       "</table>\n",
       "</div>"
      ],
      "text/plain": [
       "                     TemperatureC  DewpointC  PressurehPa  \\\n",
       "2017-01-01 00:00:00     -3.200000  -6.300000  1029.500000   \n",
       "2017-01-01 01:00:00     -3.200000  -6.300000  1029.000000   \n",
       "2017-01-01 02:00:00     -4.200000  -7.300000  1028.000000   \n",
       "2017-01-01 03:00:00     -4.400000  -7.500000  1027.150000   \n",
       "2017-01-01 04:00:00     -4.433333  -7.533333  1026.733333   \n",
       "\n",
       "                     WindDirectionDegrees  WindSpeedKMH  WindSpeedGustKMH  \\\n",
       "2017-01-01 00:00:00                  90.0           1.0           -1607.4   \n",
       "2017-01-01 01:00:00                  90.0           1.0           -1607.4   \n",
       "2017-01-01 02:00:00                  90.0           1.0           -1607.4   \n",
       "2017-01-01 03:00:00                  90.0           1.0           -1607.4   \n",
       "2017-01-01 04:00:00                  90.0           1.0           -1607.4   \n",
       "\n",
       "                     Humidity  HourlyPrecipMM  dailyrainMM  \n",
       "2017-01-01 00:00:00      84.0         -2539.7      -2539.7  \n",
       "2017-01-01 01:00:00      84.0         -2539.7      -2539.7  \n",
       "2017-01-01 02:00:00      84.0         -2539.7      -2539.7  \n",
       "2017-01-01 03:00:00      84.0         -2539.7      -2539.7  \n",
       "2017-01-01 04:00:00      84.0         -2539.7      -2539.7  "
      ]
     },
     "execution_count": 12,
     "metadata": {},
     "output_type": "execute_result"
    }
   ],
   "source": [
    "uniformise_dataframe(df_weather).head()"
   ]
  },
  {
   "cell_type": "code",
   "execution_count": 13,
   "metadata": {
    "collapsed": false,
    "deletable": true,
    "editable": true,
    "scrolled": false
   },
   "outputs": [
    {
     "name": "stdout",
     "output_type": "stream",
     "text": [
      "shape ::  (10000, 7)\n",
      "shape ::  (5007, 11)\n"
     ]
    }
   ],
   "source": [
    "df_traffic = uniformise_dataframe(df_traffic)\n",
    "df_weather = uniformise_dataframe(df_weather)"
   ]
  },
  {
   "cell_type": "code",
   "execution_count": 14,
   "metadata": {
    "collapsed": false,
    "deletable": true,
    "editable": true,
    "scrolled": false
   },
   "outputs": [
    {
     "name": "stdout",
     "output_type": "stream",
     "text": [
      "selecting only dates from the 01-01-2017 to today\n",
      "(1516, 6)\n",
      "(1645, 9)\n"
     ]
    }
   ],
   "source": [
    "print \"selecting only dates from the 01-01-2017 to today\"\n",
    "df_traffic = df_traffic.loc[\"2017-1-6\":\"2017-3-16\"]\n",
    "df_weather = df_weather.loc[\"2017-1-6\":\"2017-3-16\"]\n",
    "\n",
    "print df_traffic.shape\n",
    "print df_weather.shape"
   ]
  },
  {
   "cell_type": "markdown",
   "metadata": {
    "deletable": true,
    "editable": true
   },
   "source": [
    "Let combine the two dataframe for a single datset"
   ]
  },
  {
   "cell_type": "code",
   "execution_count": 15,
   "metadata": {
    "collapsed": false,
    "deletable": true,
    "editable": true,
    "scrolled": false
   },
   "outputs": [],
   "source": [
    "df = pd.concat([df_weather, df_traffic], axis=1)"
   ]
  },
  {
   "cell_type": "markdown",
   "metadata": {
    "deletable": true,
    "editable": true
   },
   "source": [
    "Now let build some seasonal features such as :\n",
    "* day of the year \n",
    "* hour in the day : we know that there is a reccurences during the day on the delay, for example when going for work\n",
    "* day of the week : the delay should be different from weekend day then a working day"
   ]
  },
  {
   "cell_type": "code",
   "execution_count": 16,
   "metadata": {
    "collapsed": true,
    "deletable": true,
    "editable": true
   },
   "outputs": [],
   "source": [
    "feat_time = ['day','dow','hod','working_day']\n",
    "\n",
    "def fill_timefeatures(data = pd.DataFrame(), date_interval = [\"2017-01-01\", \"2017-03-15\"]):\n",
    "    print \"shape :: \", data.shape\n",
    "    data_copy = data\n",
    "    data_copy.is_copy = False\n",
    "    data_copy['day' ] = data.index.date\n",
    "    data_copy['dow' ] = data.index.weekday   \n",
    "    data_copy['hod' ] = data.index.hour\n",
    "    # Is each time stamp on a working day (Mon-Fri)\n",
    "    data_copy['working_day'] = (data_copy['dow'] >= 0) & (data_copy['dow'] <= 4)\n",
    "    return data_copy"
   ]
  },
  {
   "cell_type": "code",
   "execution_count": 17,
   "metadata": {
    "collapsed": false,
    "deletable": true,
    "editable": true
   },
   "outputs": [
    {
     "name": "stdout",
     "output_type": "stream",
     "text": [
      "shape ::  (1679, 15)\n"
     ]
    }
   ],
   "source": [
    "df = fill_timefeatures(df)"
   ]
  },
  {
   "cell_type": "code",
   "execution_count": 18,
   "metadata": {
    "collapsed": false,
    "deletable": true,
    "editable": true
   },
   "outputs": [
    {
     "data": {
      "text/html": [
       "<div>\n",
       "<table border=\"1\" class=\"dataframe\">\n",
       "  <thead>\n",
       "    <tr style=\"text-align: right;\">\n",
       "      <th></th>\n",
       "      <th>TemperatureC</th>\n",
       "      <th>DewpointC</th>\n",
       "      <th>PressurehPa</th>\n",
       "      <th>WindDirectionDegrees</th>\n",
       "      <th>WindSpeedKMH</th>\n",
       "      <th>WindSpeedGustKMH</th>\n",
       "      <th>Humidity</th>\n",
       "      <th>HourlyPrecipMM</th>\n",
       "      <th>dailyrainMM</th>\n",
       "      <th>data.attrs.delay</th>\n",
       "      <th>data.attrs.average_speed</th>\n",
       "      <th>data.attrs.delayed_average_speed</th>\n",
       "      <th>data.attrs.total_distance</th>\n",
       "      <th>data.attrs.total_duration</th>\n",
       "      <th>data.attrs.total_duration_in_traffic</th>\n",
       "      <th>day</th>\n",
       "      <th>dow</th>\n",
       "      <th>hod</th>\n",
       "      <th>working_day</th>\n",
       "    </tr>\n",
       "  </thead>\n",
       "  <tbody>\n",
       "    <tr>\n",
       "      <th>2017-01-06 00:00:00</th>\n",
       "      <td>-4.133333</td>\n",
       "      <td>-8.333333</td>\n",
       "      <td>1031.933333</td>\n",
       "      <td>210.000000</td>\n",
       "      <td>1.300000</td>\n",
       "      <td>-1607.4</td>\n",
       "      <td>78.0</td>\n",
       "      <td>-2539.7</td>\n",
       "      <td>-2539.7</td>\n",
       "      <td>NaN</td>\n",
       "      <td>NaN</td>\n",
       "      <td>NaN</td>\n",
       "      <td>NaN</td>\n",
       "      <td>NaN</td>\n",
       "      <td>NaN</td>\n",
       "      <td>2017-01-06</td>\n",
       "      <td>4</td>\n",
       "      <td>0</td>\n",
       "      <td>True</td>\n",
       "    </tr>\n",
       "    <tr>\n",
       "      <th>2017-01-06 01:00:00</th>\n",
       "      <td>-5.200000</td>\n",
       "      <td>-9.400000</td>\n",
       "      <td>1032.500000</td>\n",
       "      <td>44.666667</td>\n",
       "      <td>0.666667</td>\n",
       "      <td>-1607.4</td>\n",
       "      <td>78.0</td>\n",
       "      <td>-2539.7</td>\n",
       "      <td>-2539.7</td>\n",
       "      <td>NaN</td>\n",
       "      <td>NaN</td>\n",
       "      <td>NaN</td>\n",
       "      <td>NaN</td>\n",
       "      <td>NaN</td>\n",
       "      <td>NaN</td>\n",
       "      <td>2017-01-06</td>\n",
       "      <td>4</td>\n",
       "      <td>1</td>\n",
       "      <td>True</td>\n",
       "    </tr>\n",
       "    <tr>\n",
       "      <th>2017-01-06 02:00:00</th>\n",
       "      <td>-6.133333</td>\n",
       "      <td>-10.333333</td>\n",
       "      <td>1033.533333</td>\n",
       "      <td>119.666667</td>\n",
       "      <td>0.666667</td>\n",
       "      <td>-1607.4</td>\n",
       "      <td>78.0</td>\n",
       "      <td>-2539.7</td>\n",
       "      <td>-2539.7</td>\n",
       "      <td>NaN</td>\n",
       "      <td>NaN</td>\n",
       "      <td>NaN</td>\n",
       "      <td>NaN</td>\n",
       "      <td>NaN</td>\n",
       "      <td>NaN</td>\n",
       "      <td>2017-01-06</td>\n",
       "      <td>4</td>\n",
       "      <td>2</td>\n",
       "      <td>True</td>\n",
       "    </tr>\n",
       "    <tr>\n",
       "      <th>2017-01-06 03:00:00</th>\n",
       "      <td>-6.433333</td>\n",
       "      <td>-10.633333</td>\n",
       "      <td>1034.300000</td>\n",
       "      <td>119.666667</td>\n",
       "      <td>0.666667</td>\n",
       "      <td>-1607.4</td>\n",
       "      <td>78.0</td>\n",
       "      <td>-2539.7</td>\n",
       "      <td>-2539.7</td>\n",
       "      <td>NaN</td>\n",
       "      <td>NaN</td>\n",
       "      <td>NaN</td>\n",
       "      <td>NaN</td>\n",
       "      <td>NaN</td>\n",
       "      <td>NaN</td>\n",
       "      <td>2017-01-06</td>\n",
       "      <td>4</td>\n",
       "      <td>3</td>\n",
       "      <td>True</td>\n",
       "    </tr>\n",
       "    <tr>\n",
       "      <th>2017-01-06 04:00:00</th>\n",
       "      <td>-7.366667</td>\n",
       "      <td>-11.566667</td>\n",
       "      <td>1034.900000</td>\n",
       "      <td>29.333333</td>\n",
       "      <td>0.333333</td>\n",
       "      <td>-1607.4</td>\n",
       "      <td>78.0</td>\n",
       "      <td>-2539.7</td>\n",
       "      <td>-2539.7</td>\n",
       "      <td>NaN</td>\n",
       "      <td>NaN</td>\n",
       "      <td>NaN</td>\n",
       "      <td>NaN</td>\n",
       "      <td>NaN</td>\n",
       "      <td>NaN</td>\n",
       "      <td>2017-01-06</td>\n",
       "      <td>4</td>\n",
       "      <td>4</td>\n",
       "      <td>True</td>\n",
       "    </tr>\n",
       "  </tbody>\n",
       "</table>\n",
       "</div>"
      ],
      "text/plain": [
       "                     TemperatureC  DewpointC  PressurehPa  \\\n",
       "2017-01-06 00:00:00     -4.133333  -8.333333  1031.933333   \n",
       "2017-01-06 01:00:00     -5.200000  -9.400000  1032.500000   \n",
       "2017-01-06 02:00:00     -6.133333 -10.333333  1033.533333   \n",
       "2017-01-06 03:00:00     -6.433333 -10.633333  1034.300000   \n",
       "2017-01-06 04:00:00     -7.366667 -11.566667  1034.900000   \n",
       "\n",
       "                     WindDirectionDegrees  WindSpeedKMH  WindSpeedGustKMH  \\\n",
       "2017-01-06 00:00:00            210.000000      1.300000           -1607.4   \n",
       "2017-01-06 01:00:00             44.666667      0.666667           -1607.4   \n",
       "2017-01-06 02:00:00            119.666667      0.666667           -1607.4   \n",
       "2017-01-06 03:00:00            119.666667      0.666667           -1607.4   \n",
       "2017-01-06 04:00:00             29.333333      0.333333           -1607.4   \n",
       "\n",
       "                     Humidity  HourlyPrecipMM  dailyrainMM  data.attrs.delay  \\\n",
       "2017-01-06 00:00:00      78.0         -2539.7      -2539.7               NaN   \n",
       "2017-01-06 01:00:00      78.0         -2539.7      -2539.7               NaN   \n",
       "2017-01-06 02:00:00      78.0         -2539.7      -2539.7               NaN   \n",
       "2017-01-06 03:00:00      78.0         -2539.7      -2539.7               NaN   \n",
       "2017-01-06 04:00:00      78.0         -2539.7      -2539.7               NaN   \n",
       "\n",
       "                     data.attrs.average_speed  \\\n",
       "2017-01-06 00:00:00                       NaN   \n",
       "2017-01-06 01:00:00                       NaN   \n",
       "2017-01-06 02:00:00                       NaN   \n",
       "2017-01-06 03:00:00                       NaN   \n",
       "2017-01-06 04:00:00                       NaN   \n",
       "\n",
       "                     data.attrs.delayed_average_speed  \\\n",
       "2017-01-06 00:00:00                               NaN   \n",
       "2017-01-06 01:00:00                               NaN   \n",
       "2017-01-06 02:00:00                               NaN   \n",
       "2017-01-06 03:00:00                               NaN   \n",
       "2017-01-06 04:00:00                               NaN   \n",
       "\n",
       "                     data.attrs.total_distance  data.attrs.total_duration  \\\n",
       "2017-01-06 00:00:00                        NaN                        NaN   \n",
       "2017-01-06 01:00:00                        NaN                        NaN   \n",
       "2017-01-06 02:00:00                        NaN                        NaN   \n",
       "2017-01-06 03:00:00                        NaN                        NaN   \n",
       "2017-01-06 04:00:00                        NaN                        NaN   \n",
       "\n",
       "                     data.attrs.total_duration_in_traffic         day  dow  \\\n",
       "2017-01-06 00:00:00                                   NaN  2017-01-06    4   \n",
       "2017-01-06 01:00:00                                   NaN  2017-01-06    4   \n",
       "2017-01-06 02:00:00                                   NaN  2017-01-06    4   \n",
       "2017-01-06 03:00:00                                   NaN  2017-01-06    4   \n",
       "2017-01-06 04:00:00                                   NaN  2017-01-06    4   \n",
       "\n",
       "                     hod working_day  \n",
       "2017-01-06 00:00:00    0        True  \n",
       "2017-01-06 01:00:00    1        True  \n",
       "2017-01-06 02:00:00    2        True  \n",
       "2017-01-06 03:00:00    3        True  \n",
       "2017-01-06 04:00:00    4        True  "
      ]
     },
     "execution_count": 18,
     "metadata": {},
     "output_type": "execute_result"
    }
   ],
   "source": [
    "df.head()"
   ]
  },
  {
   "cell_type": "markdown",
   "metadata": {
    "deletable": true,
    "editable": true
   },
   "source": [
    "Let create a calendar vosualtion of the average delay"
   ]
  },
  {
   "cell_type": "code",
   "execution_count": 19,
   "metadata": {
    "collapsed": false,
    "deletable": true,
    "editable": true,
    "scrolled": false
   },
   "outputs": [
    {
     "name": "stdout",
     "output_type": "stream",
     "text": [
      "TemperatureC   (1679,)\n",
      "DewpointC   (1679,)\n"
     ]
    },
    {
     "name": "stderr",
     "output_type": "stream",
     "text": [
      "/home/user/.local/lib/python2.7/site-packages/calmap/__init__.py:128: FutureWarning: how in .resample() is deprecated\n",
      "the new syntax is .resample(...).sum()\n",
      "  by_day = data.resample('D', how=how)\n"
     ]
    },
    {
     "name": "stdout",
     "output_type": "stream",
     "text": [
      "PressurehPa   (1679,)\n",
      "WindDirectionDegrees   (1679,)\n",
      "WindSpeedKMH   (1679,)\n",
      "WindSpeedGustKMH   (1679,)\n",
      "Humidity   (1679,)\n",
      "HourlyPrecipMM   (1679,)\n",
      "dailyrainMM   (1679,)\n",
      "data.attrs.delay   (1679,)\n",
      "data.attrs.average_speed   (1679,)\n",
      "data.attrs.delayed_average_speed   (1679,)\n",
      "data.attrs.total_distance   (1679,)\n",
      "data.attrs.total_duration   (1679,)\n",
      "data.attrs.total_duration_in_traffic   (1679,)\n"
     ]
    },
    {
     "data": {
      "image/png": "[encoded data removed]",
      "text/plain": [
       "<matplotlib.figure.Figure at 0x7fee4afce450>"
      ]
     },
     "metadata": {},
     "output_type": "display_data"
    },
    {
     "data": {
      "image/png": "[encoded data removed]",
      "text/plain": [
       "<matplotlib.figure.Figure at 0x7fee4afce410>"
      ]
     },
     "metadata": {},
     "output_type": "display_data"
    },
    {
     "data": {
      "image/png": "[encoded data removed]",
      "text/plain": [
       "<matplotlib.figure.Figure at 0x7fee4acc42d0>"
      ]
     },
     "metadata": {},
     "output_type": "display_data"
    },
    {
     "data": {
      "image/png": "[encoded data removed]",
      "text/plain": [
       "<matplotlib.figure.Figure at 0x7fee4aa7a550>"
      ]
     },
     "metadata": {},
     "output_type": "display_data"
    },
    {
     "data": {
      "image/png": "[encoded data removed]",
      "text/plain": [
       "<matplotlib.figure.Figure at 0x7fee4a7dfa10>"
      ]
     },
     "metadata": {},
     "output_type": "display_data"
    },
    {
     "data": {
      "image/png": "[encoded data removed]",
      "text/plain": [
       "<matplotlib.figure.Figure at 0x7fee4a6ba2d0>"
      ]
     },
     "metadata": {},
     "output_type": "display_data"
    },
    {
     "data": {
      "image/png": "[encoded data removed]",
      "text/plain": [
       "<matplotlib.figure.Figure at 0x7fee4a6c0a90>"
      ]
     },
     "metadata": {},
     "output_type": "display_data"
    },
    {
     "data": {
      "image/png": "[encoded data removed]",
      "text/plain": [
       "<matplotlib.figure.Figure at 0x7fee4a548090>"
      ]
     },
     "metadata": {},
     "output_type": "display_data"
    },
    {
     "data": {
      "image/png": "[encoded data removed]",
      "text/plain": [
       "<matplotlib.figure.Figure at 0x7fee4a1897d0>"
      ]
     },
     "metadata": {},
     "output_type": "display_data"
    },
    {
     "data": {
      "image/png": "[encoded data removed]",
      "text/plain": [
       "<matplotlib.figure.Figure at 0x7fee4a295050>"
      ]
     },
     "metadata": {},
     "output_type": "display_data"
    },
    {
     "data": {
      "image/png": "[encoded data removed]",
      "text/plain": [
       "<matplotlib.figure.Figure at 0x7fee49fa2410>"
      ]
     },
     "metadata": {},
     "output_type": "display_data"
    },
    {
     "data": {
      "image/png": "[encoded data removed]",
      "text/plain": [
       "<matplotlib.figure.Figure at 0x7fee49febc50>"
      ]
     },
     "metadata": {},
     "output_type": "display_data"
    },
    {
     "data": {
      "image/png": "[encoded data removed]",
      "text/plain": [
       "<matplotlib.figure.Figure at 0x7fee4a1a6f90>"
      ]
     },
     "metadata": {},
     "output_type": "display_data"
    },
    {
     "data": {
      "image/png": "[encoded data removed]",
      "text/plain": [
       "<matplotlib.figure.Figure at 0x7fee4a5aea10>"
      ]
     },
     "metadata": {},
     "output_type": "display_data"
    },
    {
     "data": {
      "image/png": "[encoded data removed]",
      "text/plain": [
       "<matplotlib.figure.Figure at 0x7fee49dda810>"
      ]
     },
     "metadata": {},
     "output_type": "display_data"
    }
   ],
   "source": [
    "import matplotlib.pyplot as plt\n",
    "import calmap\n",
    "import numpy  as np\n",
    "import pandas as pd\n",
    "from matplotlib import dates\n",
    "\n",
    "%matplotlib inline\n",
    "features  = feat_weather[1:] + feat_traffic[1:]\n",
    "for feat in features:\n",
    "    print feat ,' ',df[feat].shape\n",
    "    dev_sr = pd.Series(df[feat].values, index=df.index)\n",
    "    plt.figure(figsize=(14,5))\n",
    "    calmap.yearplot(dev_sr, year=2017)\n",
    "    plt.title(feat)"
   ]
  },
  {
   "cell_type": "code",
   "execution_count": 20,
   "metadata": {
    "collapsed": false,
    "deletable": true,
    "editable": true
   },
   "outputs": [
    {
     "data": {
      "image/png": "[encoded data removed]",
      "text/plain": [
       "<matplotlib.figure.Figure at 0x7fee458da710>"
      ]
     },
     "metadata": {},
     "output_type": "display_data"
    }
   ],
   "source": [
    "f = plt.figure(figsize=(14,12))\n",
    "plt.subplots_adjust(hspace=0.001)\n",
    "\n",
    "period = ['2017-03-3','2017-03-3']\n",
    "\n",
    "ax1 = plt.subplot(511)\n",
    "ax1.plot(df.loc[period[0]:period[1]]['data.attrs.delay'])\n",
    "\n",
    "ax2 = plt.subplot(512, sharex=ax1)\n",
    "ax2.plot(df.loc[period[0]:period[1]]['TemperatureC'])\n",
    "\n",
    "ax3 = plt.subplot(513, sharex=ax1)\n",
    "ax3.plot(df.loc[period[0]:period[1]]['WindSpeedKMH'])\n",
    "\n",
    "ax4 = plt.subplot(514, sharex=ax1)\n",
    "ax4.plot(df.loc[period[0]:period[1]]['data.attrs.delayed_average_speed'])\n",
    "\n",
    "ax5 = plt.subplot(515, sharex=ax1)\n",
    "ax5.plot(df.loc[period[0]:period[1]]['working_day'])\n",
    "ax5.set_ylim([0,1.5])\n",
    "xticklabels = ax1.get_xticklabels() + ax2.get_xticklabels() + ax3.get_xticklabels() + ax4.get_xticklabels()\n",
    "plt.setp(xticklabels, visible=False)\n",
    "\n",
    "plt.show()"
   ]
  },
  {
   "cell_type": "markdown",
   "metadata": {
    "deletable": true,
    "editable": true
   },
   "source": [
    "### Checking the stationarity of a time series"
   ]
  },
  {
   "cell_type": "code",
   "execution_count": 21,
   "metadata": {
    "collapsed": true,
    "deletable": true,
    "editable": true
   },
   "outputs": [],
   "source": [
    "from statsmodels.tsa.stattools import adfuller\n",
    "def test_stationarity(timeseries, lag = 24, center=False):\n",
    "    \n",
    "    #Determing rolling statistics\n",
    "    rolmean = timeseries.rolling(window=lag,center=center).mean()\n",
    "    rolstd  = timeseries.rolling(window=lag,center=center).std()\n",
    "    rolmax  = timeseries.rolling(window=lag,center=center).max()\n",
    "\n",
    "    #Plot rolling statistics:\n",
    "    plt.figure(figsize=(14,3))\n",
    "    orig = plt.plot(timeseries, color='blue' ,label='Original')\n",
    "    mean = plt.plot(rolmean   , color='red'  ,label='Rolling Mean')\n",
    "    std  = plt.plot(rolstd    , color='black',label= 'Rolling Std')\n",
    "    std  = plt.plot(rolmax    , color='green',label= 'Rolling mac')\n",
    "    plt.legend(loc='best')\n",
    "    plt.title('Rolling Mean & Standard Deviation')\n",
    "    plt.show(block=False)\n",
    "    \n",
    "    #Perform Dickey-Fuller test:\n",
    "    print 'Results of Dickey-Fuller Test:'\n",
    "    dftest = adfuller(timeseries, autolag='AIC')\n",
    "    dfoutput = pd.Series(dftest[0:4], index=['Test Statistic','p-value','#Lags Used','Number of Observations Used'])\n",
    "    for key,value in dftest[4].items():\n",
    "        dfoutput['Critical Value (%s)'%key] = value\n",
    "    print dfoutput"
   ]
  },
  {
   "cell_type": "code",
   "execution_count": 22,
   "metadata": {
    "collapsed": false,
    "deletable": true,
    "editable": true
   },
   "outputs": [
    {
     "data": {
      "image/png": "[encoded data removed]",
      "text/plain": [
       "<matplotlib.figure.Figure at 0x7fee4d1af5d0>"
      ]
     },
     "metadata": {},
     "output_type": "display_data"
    },
    {
     "name": "stdout",
     "output_type": "stream",
     "text": [
      "Results of Dickey-Fuller Test:\n"
     ]
    },
    {
     "name": "stderr",
     "output_type": "stream",
     "text": [
      "/home/user/.local/lib/python2.7/site-packages/numpy/linalg/linalg.py:1591: RuntimeWarning: invalid value encountered in greater\n",
      "  return sum(S > tol)\n"
     ]
    },
    {
     "ename": "LinAlgError",
     "evalue": "SVD did not converge",
     "output_type": "error",
     "traceback": [
      "\u001b[0;31m---------------------------------------------------------------------------\u001b[0m",
      "\u001b[0;31mLinAlgError\u001b[0m                               Traceback (most recent call last)",
      "\u001b[0;32m<ipython-input-22-6b959cb0fcac>\u001b[0m in \u001b[0;36m<module>\u001b[0;34m()\u001b[0m\n\u001b[1;32m      1\u001b[0m \u001b[0mperiod\u001b[0m \u001b[0;34m=\u001b[0m \u001b[0;34m[\u001b[0m\u001b[0;34m'2017-01-01'\u001b[0m\u001b[0;34m,\u001b[0m\u001b[0;34m'2017-03-21'\u001b[0m\u001b[0;34m]\u001b[0m\u001b[0;34m\u001b[0m\u001b[0m\n\u001b[0;32m----> 2\u001b[0;31m \u001b[0mtest_stationarity\u001b[0m\u001b[0;34m(\u001b[0m\u001b[0mdf\u001b[0m\u001b[0;34m.\u001b[0m\u001b[0mloc\u001b[0m\u001b[0;34m[\u001b[0m\u001b[0mperiod\u001b[0m\u001b[0;34m[\u001b[0m\u001b[0;36m0\u001b[0m\u001b[0;34m]\u001b[0m\u001b[0;34m:\u001b[0m\u001b[0mperiod\u001b[0m\u001b[0;34m[\u001b[0m\u001b[0;36m1\u001b[0m\u001b[0;34m]\u001b[0m\u001b[0;34m]\u001b[0m\u001b[0;34m[\u001b[0m\u001b[0;34m'data.attrs.delay'\u001b[0m\u001b[0;34m]\u001b[0m\u001b[0;34m,\u001b[0m \u001b[0mlag\u001b[0m\u001b[0;34m=\u001b[0m\u001b[0;36m12\u001b[0m\u001b[0;34m)\u001b[0m\u001b[0;34m\u001b[0m\u001b[0m\n\u001b[0m\u001b[1;32m      3\u001b[0m \u001b[0mtest_stationarity\u001b[0m\u001b[0;34m(\u001b[0m\u001b[0mdf\u001b[0m\u001b[0;34m.\u001b[0m\u001b[0mloc\u001b[0m\u001b[0;34m[\u001b[0m\u001b[0mperiod\u001b[0m\u001b[0;34m[\u001b[0m\u001b[0;36m0\u001b[0m\u001b[0;34m]\u001b[0m\u001b[0;34m:\u001b[0m\u001b[0mperiod\u001b[0m\u001b[0;34m[\u001b[0m\u001b[0;36m1\u001b[0m\u001b[0;34m]\u001b[0m\u001b[0;34m]\u001b[0m\u001b[0;34m[\u001b[0m\u001b[0;34m'data.attrs.delay'\u001b[0m\u001b[0;34m]\u001b[0m\u001b[0;34m,\u001b[0m \u001b[0mlag\u001b[0m\u001b[0;34m=\u001b[0m\u001b[0;36m24\u001b[0m\u001b[0;34m)\u001b[0m\u001b[0;34m\u001b[0m\u001b[0m\n\u001b[1;32m      4\u001b[0m \u001b[0mtest_stationarity\u001b[0m\u001b[0;34m(\u001b[0m\u001b[0mdf\u001b[0m\u001b[0;34m.\u001b[0m\u001b[0mloc\u001b[0m\u001b[0;34m[\u001b[0m\u001b[0mperiod\u001b[0m\u001b[0;34m[\u001b[0m\u001b[0;36m0\u001b[0m\u001b[0;34m]\u001b[0m\u001b[0;34m:\u001b[0m\u001b[0mperiod\u001b[0m\u001b[0;34m[\u001b[0m\u001b[0;36m1\u001b[0m\u001b[0;34m]\u001b[0m\u001b[0;34m]\u001b[0m\u001b[0;34m[\u001b[0m\u001b[0;34m'data.attrs.delay'\u001b[0m\u001b[0;34m]\u001b[0m\u001b[0;34m,\u001b[0m \u001b[0mlag\u001b[0m\u001b[0;34m=\u001b[0m\u001b[0;36m48\u001b[0m\u001b[0;34m)\u001b[0m\u001b[0;34m\u001b[0m\u001b[0m\n\u001b[1;32m      5\u001b[0m \u001b[0mtest_stationarity\u001b[0m\u001b[0;34m(\u001b[0m\u001b[0mdf\u001b[0m\u001b[0;34m.\u001b[0m\u001b[0mloc\u001b[0m\u001b[0;34m[\u001b[0m\u001b[0mperiod\u001b[0m\u001b[0;34m[\u001b[0m\u001b[0;36m0\u001b[0m\u001b[0;34m]\u001b[0m\u001b[0;34m:\u001b[0m\u001b[0mperiod\u001b[0m\u001b[0;34m[\u001b[0m\u001b[0;36m1\u001b[0m\u001b[0;34m]\u001b[0m\u001b[0;34m]\u001b[0m\u001b[0;34m[\u001b[0m\u001b[0;34m'data.attrs.delay'\u001b[0m\u001b[0;34m]\u001b[0m\u001b[0;34m,\u001b[0m \u001b[0mlag\u001b[0m\u001b[0;34m=\u001b[0m\u001b[0;36m168\u001b[0m\u001b[0;34m)\u001b[0m\u001b[0;34m\u001b[0m\u001b[0m\n",
      "\u001b[0;32m<ipython-input-21-7928d6cf4769>\u001b[0m in \u001b[0;36mtest_stationarity\u001b[0;34m(timeseries, lag, center)\u001b[0m\n\u001b[1;32m     19\u001b[0m     \u001b[0;31m#Perform Dickey-Fuller test:\u001b[0m\u001b[0;34m\u001b[0m\u001b[0;34m\u001b[0m\u001b[0m\n\u001b[1;32m     20\u001b[0m     \u001b[0;32mprint\u001b[0m \u001b[0;34m'Results of Dickey-Fuller Test:'\u001b[0m\u001b[0;34m\u001b[0m\u001b[0m\n\u001b[0;32m---> 21\u001b[0;31m     \u001b[0mdftest\u001b[0m \u001b[0;34m=\u001b[0m \u001b[0madfuller\u001b[0m\u001b[0;34m(\u001b[0m\u001b[0mtimeseries\u001b[0m\u001b[0;34m,\u001b[0m \u001b[0mautolag\u001b[0m\u001b[0;34m=\u001b[0m\u001b[0;34m'AIC'\u001b[0m\u001b[0;34m)\u001b[0m\u001b[0;34m\u001b[0m\u001b[0m\n\u001b[0m\u001b[1;32m     22\u001b[0m     \u001b[0mdfoutput\u001b[0m \u001b[0;34m=\u001b[0m \u001b[0mpd\u001b[0m\u001b[0;34m.\u001b[0m\u001b[0mSeries\u001b[0m\u001b[0;34m(\u001b[0m\u001b[0mdftest\u001b[0m\u001b[0;34m[\u001b[0m\u001b[0;36m0\u001b[0m\u001b[0;34m:\u001b[0m\u001b[0;36m4\u001b[0m\u001b[0;34m]\u001b[0m\u001b[0;34m,\u001b[0m \u001b[0mindex\u001b[0m\u001b[0;34m=\u001b[0m\u001b[0;34m[\u001b[0m\u001b[0;34m'Test Statistic'\u001b[0m\u001b[0;34m,\u001b[0m\u001b[0;34m'p-value'\u001b[0m\u001b[0;34m,\u001b[0m\u001b[0;34m'#Lags Used'\u001b[0m\u001b[0;34m,\u001b[0m\u001b[0;34m'Number of Observations Used'\u001b[0m\u001b[0;34m]\u001b[0m\u001b[0;34m)\u001b[0m\u001b[0;34m\u001b[0m\u001b[0m\n\u001b[1;32m     23\u001b[0m     \u001b[0;32mfor\u001b[0m \u001b[0mkey\u001b[0m\u001b[0;34m,\u001b[0m\u001b[0mvalue\u001b[0m \u001b[0;32min\u001b[0m \u001b[0mdftest\u001b[0m\u001b[0;34m[\u001b[0m\u001b[0;36m4\u001b[0m\u001b[0;34m]\u001b[0m\u001b[0;34m.\u001b[0m\u001b[0mitems\u001b[0m\u001b[0;34m(\u001b[0m\u001b[0;34m)\u001b[0m\u001b[0;34m:\u001b[0m\u001b[0;34m\u001b[0m\u001b[0m\n",
      "\u001b[0;32m/home/user/.local/lib/python2.7/site-packages/statsmodels/tsa/stattools.pyc\u001b[0m in \u001b[0;36madfuller\u001b[0;34m(x, maxlag, regression, autolag, store, regresults)\u001b[0m\n\u001b[1;32m    238\u001b[0m         \u001b[0;32mif\u001b[0m \u001b[0;32mnot\u001b[0m \u001b[0mregresults\u001b[0m\u001b[0;34m:\u001b[0m\u001b[0;34m\u001b[0m\u001b[0m\n\u001b[1;32m    239\u001b[0m             icbest, bestlag = _autolag(OLS, xdshort, fullRHS, startlag,\n\u001b[0;32m--> 240\u001b[0;31m                                        maxlag, autolag)\n\u001b[0m\u001b[1;32m    241\u001b[0m         \u001b[0;32melse\u001b[0m\u001b[0;34m:\u001b[0m\u001b[0;34m\u001b[0m\u001b[0m\n\u001b[1;32m    242\u001b[0m             icbest, bestlag, alres = _autolag(OLS, xdshort, fullRHS, startlag,\n",
      "\u001b[0;32m/home/user/.local/lib/python2.7/site-packages/statsmodels/tsa/stattools.pyc\u001b[0m in \u001b[0;36m_autolag\u001b[0;34m(mod, endog, exog, startlag, maxlag, method, modargs, fitargs, regresults)\u001b[0m\n\u001b[1;32m     84\u001b[0m     \u001b[0;32mfor\u001b[0m \u001b[0mlag\u001b[0m \u001b[0;32min\u001b[0m \u001b[0mrange\u001b[0m\u001b[0;34m(\u001b[0m\u001b[0mstartlag\u001b[0m\u001b[0;34m,\u001b[0m \u001b[0mstartlag\u001b[0m \u001b[0;34m+\u001b[0m \u001b[0mmaxlag\u001b[0m \u001b[0;34m+\u001b[0m \u001b[0;36m1\u001b[0m\u001b[0;34m)\u001b[0m\u001b[0;34m:\u001b[0m\u001b[0;34m\u001b[0m\u001b[0m\n\u001b[1;32m     85\u001b[0m         \u001b[0mmod_instance\u001b[0m \u001b[0;34m=\u001b[0m \u001b[0mmod\u001b[0m\u001b[0;34m(\u001b[0m\u001b[0mendog\u001b[0m\u001b[0;34m,\u001b[0m \u001b[0mexog\u001b[0m\u001b[0;34m[\u001b[0m\u001b[0;34m:\u001b[0m\u001b[0;34m,\u001b[0m \u001b[0;34m:\u001b[0m\u001b[0mlag\u001b[0m\u001b[0;34m]\u001b[0m\u001b[0;34m,\u001b[0m \u001b[0;34m*\u001b[0m\u001b[0mmodargs\u001b[0m\u001b[0;34m)\u001b[0m\u001b[0;34m\u001b[0m\u001b[0m\n\u001b[0;32m---> 86\u001b[0;31m         \u001b[0mresults\u001b[0m\u001b[0;34m[\u001b[0m\u001b[0mlag\u001b[0m\u001b[0;34m]\u001b[0m \u001b[0;34m=\u001b[0m \u001b[0mmod_instance\u001b[0m\u001b[0;34m.\u001b[0m\u001b[0mfit\u001b[0m\u001b[0;34m(\u001b[0m\u001b[0;34m)\u001b[0m\u001b[0;34m\u001b[0m\u001b[0m\n\u001b[0m\u001b[1;32m     87\u001b[0m \u001b[0;34m\u001b[0m\u001b[0m\n\u001b[1;32m     88\u001b[0m     \u001b[0;32mif\u001b[0m \u001b[0mmethod\u001b[0m \u001b[0;34m==\u001b[0m \u001b[0;34m\"aic\"\u001b[0m\u001b[0;34m:\u001b[0m\u001b[0;34m\u001b[0m\u001b[0m\n",
      "\u001b[0;32m/home/user/.local/lib/python2.7/site-packages/statsmodels/regression/linear_model.pyc\u001b[0m in \u001b[0;36mfit\u001b[0;34m(self, method, cov_type, cov_kwds, use_t, **kwargs)\u001b[0m\n\u001b[1;32m    188\u001b[0m                 (not hasattr(self, 'rank'))):\n\u001b[1;32m    189\u001b[0m \u001b[0;34m\u001b[0m\u001b[0m\n\u001b[0;32m--> 190\u001b[0;31m                 \u001b[0mself\u001b[0m\u001b[0;34m.\u001b[0m\u001b[0mpinv_wexog\u001b[0m\u001b[0;34m,\u001b[0m \u001b[0msingular_values\u001b[0m \u001b[0;34m=\u001b[0m \u001b[0mpinv_extended\u001b[0m\u001b[0;34m(\u001b[0m\u001b[0mself\u001b[0m\u001b[0;34m.\u001b[0m\u001b[0mwexog\u001b[0m\u001b[0;34m)\u001b[0m\u001b[0;34m\u001b[0m\u001b[0m\n\u001b[0m\u001b[1;32m    191\u001b[0m                 self.normalized_cov_params = np.dot(self.pinv_wexog,\n\u001b[1;32m    192\u001b[0m                                         np.transpose(self.pinv_wexog))\n",
      "\u001b[0;32m/home/user/.local/lib/python2.7/site-packages/statsmodels/tools/tools.pyc\u001b[0m in \u001b[0;36mpinv_extended\u001b[0;34m(X, rcond)\u001b[0m\n\u001b[1;32m    340\u001b[0m     \u001b[0mX\u001b[0m \u001b[0;34m=\u001b[0m \u001b[0mnp\u001b[0m\u001b[0;34m.\u001b[0m\u001b[0masarray\u001b[0m\u001b[0;34m(\u001b[0m\u001b[0mX\u001b[0m\u001b[0;34m)\u001b[0m\u001b[0;34m\u001b[0m\u001b[0m\n\u001b[1;32m    341\u001b[0m     \u001b[0mX\u001b[0m \u001b[0;34m=\u001b[0m \u001b[0mX\u001b[0m\u001b[0;34m.\u001b[0m\u001b[0mconjugate\u001b[0m\u001b[0;34m(\u001b[0m\u001b[0;34m)\u001b[0m\u001b[0;34m\u001b[0m\u001b[0m\n\u001b[0;32m--> 342\u001b[0;31m     \u001b[0mu\u001b[0m\u001b[0;34m,\u001b[0m \u001b[0ms\u001b[0m\u001b[0;34m,\u001b[0m \u001b[0mvt\u001b[0m \u001b[0;34m=\u001b[0m \u001b[0mnp\u001b[0m\u001b[0;34m.\u001b[0m\u001b[0mlinalg\u001b[0m\u001b[0;34m.\u001b[0m\u001b[0msvd\u001b[0m\u001b[0;34m(\u001b[0m\u001b[0mX\u001b[0m\u001b[0;34m,\u001b[0m \u001b[0;36m0\u001b[0m\u001b[0;34m)\u001b[0m\u001b[0;34m\u001b[0m\u001b[0m\n\u001b[0m\u001b[1;32m    343\u001b[0m     \u001b[0ms_orig\u001b[0m \u001b[0;34m=\u001b[0m \u001b[0mnp\u001b[0m\u001b[0;34m.\u001b[0m\u001b[0mcopy\u001b[0m\u001b[0;34m(\u001b[0m\u001b[0ms\u001b[0m\u001b[0;34m)\u001b[0m\u001b[0;34m\u001b[0m\u001b[0m\n\u001b[1;32m    344\u001b[0m     \u001b[0mm\u001b[0m \u001b[0;34m=\u001b[0m \u001b[0mu\u001b[0m\u001b[0;34m.\u001b[0m\u001b[0mshape\u001b[0m\u001b[0;34m[\u001b[0m\u001b[0;36m0\u001b[0m\u001b[0;34m]\u001b[0m\u001b[0;34m\u001b[0m\u001b[0m\n",
      "\u001b[0;32m/home/user/.local/lib/python2.7/site-packages/numpy/linalg/linalg.pyc\u001b[0m in \u001b[0;36msvd\u001b[0;34m(a, full_matrices, compute_uv)\u001b[0m\n\u001b[1;32m   1402\u001b[0m \u001b[0;34m\u001b[0m\u001b[0m\n\u001b[1;32m   1403\u001b[0m         \u001b[0msignature\u001b[0m \u001b[0;34m=\u001b[0m \u001b[0;34m'D->DdD'\u001b[0m \u001b[0;32mif\u001b[0m \u001b[0misComplexType\u001b[0m\u001b[0;34m(\u001b[0m\u001b[0mt\u001b[0m\u001b[0;34m)\u001b[0m \u001b[0;32melse\u001b[0m \u001b[0;34m'd->ddd'\u001b[0m\u001b[0;34m\u001b[0m\u001b[0m\n\u001b[0;32m-> 1404\u001b[0;31m         \u001b[0mu\u001b[0m\u001b[0;34m,\u001b[0m \u001b[0ms\u001b[0m\u001b[0;34m,\u001b[0m \u001b[0mvt\u001b[0m \u001b[0;34m=\u001b[0m \u001b[0mgufunc\u001b[0m\u001b[0;34m(\u001b[0m\u001b[0ma\u001b[0m\u001b[0;34m,\u001b[0m \u001b[0msignature\u001b[0m\u001b[0;34m=\u001b[0m\u001b[0msignature\u001b[0m\u001b[0;34m,\u001b[0m \u001b[0mextobj\u001b[0m\u001b[0;34m=\u001b[0m\u001b[0mextobj\u001b[0m\u001b[0;34m)\u001b[0m\u001b[0;34m\u001b[0m\u001b[0m\n\u001b[0m\u001b[1;32m   1405\u001b[0m         \u001b[0mu\u001b[0m \u001b[0;34m=\u001b[0m \u001b[0mu\u001b[0m\u001b[0;34m.\u001b[0m\u001b[0mastype\u001b[0m\u001b[0;34m(\u001b[0m\u001b[0mresult_t\u001b[0m\u001b[0;34m,\u001b[0m \u001b[0mcopy\u001b[0m\u001b[0;34m=\u001b[0m\u001b[0mFalse\u001b[0m\u001b[0;34m)\u001b[0m\u001b[0;34m\u001b[0m\u001b[0m\n\u001b[1;32m   1406\u001b[0m         \u001b[0ms\u001b[0m \u001b[0;34m=\u001b[0m \u001b[0ms\u001b[0m\u001b[0;34m.\u001b[0m\u001b[0mastype\u001b[0m\u001b[0;34m(\u001b[0m\u001b[0m_realType\u001b[0m\u001b[0;34m(\u001b[0m\u001b[0mresult_t\u001b[0m\u001b[0;34m)\u001b[0m\u001b[0;34m,\u001b[0m \u001b[0mcopy\u001b[0m\u001b[0;34m=\u001b[0m\u001b[0mFalse\u001b[0m\u001b[0;34m)\u001b[0m\u001b[0;34m\u001b[0m\u001b[0m\n",
      "\u001b[0;32m/home/user/.local/lib/python2.7/site-packages/numpy/linalg/linalg.pyc\u001b[0m in \u001b[0;36m_raise_linalgerror_svd_nonconvergence\u001b[0;34m(err, flag)\u001b[0m\n\u001b[1;32m     97\u001b[0m \u001b[0;34m\u001b[0m\u001b[0m\n\u001b[1;32m     98\u001b[0m \u001b[0;32mdef\u001b[0m \u001b[0m_raise_linalgerror_svd_nonconvergence\u001b[0m\u001b[0;34m(\u001b[0m\u001b[0merr\u001b[0m\u001b[0;34m,\u001b[0m \u001b[0mflag\u001b[0m\u001b[0;34m)\u001b[0m\u001b[0;34m:\u001b[0m\u001b[0;34m\u001b[0m\u001b[0m\n\u001b[0;32m---> 99\u001b[0;31m     \u001b[0;32mraise\u001b[0m \u001b[0mLinAlgError\u001b[0m\u001b[0;34m(\u001b[0m\u001b[0;34m\"SVD did not converge\"\u001b[0m\u001b[0;34m)\u001b[0m\u001b[0;34m\u001b[0m\u001b[0m\n\u001b[0m\u001b[1;32m    100\u001b[0m \u001b[0;34m\u001b[0m\u001b[0m\n\u001b[1;32m    101\u001b[0m \u001b[0;32mdef\u001b[0m \u001b[0mget_linalg_error_extobj\u001b[0m\u001b[0;34m(\u001b[0m\u001b[0mcallback\u001b[0m\u001b[0;34m)\u001b[0m\u001b[0;34m:\u001b[0m\u001b[0;34m\u001b[0m\u001b[0m\n",
      "\u001b[0;31mLinAlgError\u001b[0m: SVD did not converge"
     ]
    }
   ],
   "source": [
    "period = ['2017-01-01','2017-03-21']\n",
    "test_stationarity(df.loc[period[0]:period[1]]['data.attrs.delay'], lag=12)\n",
    "test_stationarity(df.loc[period[0]:period[1]]['data.attrs.delay'], lag=24)\n",
    "test_stationarity(df.loc[period[0]:period[1]]['data.attrs.delay'], lag=48)\n",
    "test_stationarity(df.loc[period[0]:period[1]]['data.attrs.delay'], lag=168)"
   ]
  },
  {
   "cell_type": "markdown",
   "metadata": {
    "deletable": true,
    "editable": true
   },
   "source": [
    "Let tray to make the time serie stationary. One of the ideas is to transform the time serie to take into account the frequency, and for that the $\\sin$ function should be the right function."
   ]
  },
  {
   "cell_type": "code",
   "execution_count": null,
   "metadata": {
    "collapsed": false,
    "deletable": true,
    "editable": true
   },
   "outputs": [],
   "source": [
    "test_stationarity(np.sin(168*df.loc[period[0]:period[1]]['data.attrs.delay']), lag=24)"
   ]
  },
  {
   "cell_type": "code",
   "execution_count": null,
   "metadata": {
    "collapsed": false,
    "deletable": true,
    "editable": true
   },
   "outputs": [],
   "source": [
    "ts_stat = np.sin(168*df.loc[period[0]:period[1]]['data.attrs.delay'])\n",
    "ts_stat.replace([np.inf, -np.inf], np.nan)\n",
    "ts_stat.dropna(inplace=True)\n",
    "ts_stat = ts_stat.resample('H').mean()\n",
    "\n",
    "ts_stat.index"
   ]
  },
  {
   "cell_type": "markdown",
   "metadata": {
    "deletable": true,
    "editable": true
   },
   "source": [
    "### decoposition"
   ]
  },
  {
   "cell_type": "code",
   "execution_count": null,
   "metadata": {
    "collapsed": false,
    "deletable": true,
    "editable": true
   },
   "outputs": [],
   "source": [
    "from statsmodels.tsa.seasonal import seasonal_decompose\n",
    "decomposition = seasonal_decompose(ts_stat)"
   ]
  },
  {
   "cell_type": "code",
   "execution_count": null,
   "metadata": {
    "collapsed": false,
    "deletable": true,
    "editable": true
   },
   "outputs": [],
   "source": [
    "ts_trend    = decomposition.trend\n",
    "ts_seasonal = decomposition.seasonal\n",
    "ts_residual = decomposition.resid\n",
    "\n",
    "plt.subplot(411)\n",
    "plt.plot(ts_stat, label='Original')\n",
    "plt.legend(loc='best')\n",
    "plt.subplot(412)\n",
    "plt.plot(ts_trend, label='Trend')\n",
    "plt.legend(loc='best')\n",
    "plt.subplot(413)\n",
    "plt.plot(ts_seasonal,label='Seasonality')\n",
    "plt.legend(loc='best')\n",
    "plt.subplot(414)\n",
    "plt.plot(ts_residual, label='Residuals')\n",
    "plt.legend(loc='best')\n",
    "plt.tight_layout()"
   ]
  },
  {
   "cell_type": "code",
   "execution_count": null,
   "metadata": {
    "collapsed": false,
    "deletable": true,
    "editable": true,
    "scrolled": false
   },
   "outputs": [],
   "source": [
    "df = df.fillna(0)"
   ]
  },
  {
   "cell_type": "code",
   "execution_count": null,
   "metadata": {
    "collapsed": false,
    "deletable": true,
    "editable": true,
    "scrolled": false
   },
   "outputs": [],
   "source": [
    "from matplotlib.colors import LogNorm\n",
    "\n",
    "varx = ['TemperatureC', 'DewpointC', 'PressurehPa',\n",
    "             'WindDirectionDegrees', 'WindSpeedKMH', 'Humidity',\n",
    "             'HourlyPrecipMM', 'dailyrainMM']\n",
    "vary = [\n",
    "    'data.attrs.delay', \n",
    "    'data.attrs.average_speed',\n",
    "    'data.attrs.delayed_average_speed',\n",
    "    'data.attrs.total_duration_in_traffic'\n",
    "]\n",
    "for fx in varx:\n",
    "    for fy in vary:\n",
    "        if fx == fy : continue\n",
    "        xmin, xmax = np.percentile(df[fx], [1, 99.9])\n",
    "        ymin, ymax = np.percentile(df[fy], [1, 99.9])\n",
    "        plt.figure(figsize=(4,4))\n",
    "        plt.hist2d(df[fx], df[fy], bins=40, range=[[xmin,xmax],[ymin,ymax]] ,  norm=LogNorm())\n",
    "        plt.colorbar()\n",
    "        plt.xlabel(fx)\n",
    "        plt.ylabel(fy)\n",
    "        plt.show()"
   ]
  },
  {
   "cell_type": "code",
   "execution_count": null,
   "metadata": {
    "collapsed": true,
    "deletable": true,
    "editable": true
   },
   "outputs": [],
   "source": [
    "def correlations(data,label, title, **kwds):\n",
    "        \"\"\"\n",
    "        Calculate pairwise correlation between features.\n",
    "        Extra arguments are passed on to DataFrame.corr()\n",
    "        bg  = df.y < 0.5\n",
    "        sig = df.y > 0.5\n",
    "        \"\"\"\n",
    "        corrmat = data.corr(**kwds)\n",
    "\n",
    "        fig, ax1 = plt.subplots(ncols=1, figsize=(9,8))\n",
    "\n",
    "        opts = {'cmap': plt.get_cmap(\"RdBu\"),\n",
    "                'vmin': -1, 'vmax': +1}\n",
    "        heatmap1 = ax1.pcolor(corrmat, **opts)\n",
    "        plt.colorbar( heatmap1, ax=ax1 )\n",
    "        if title is None :  title = \"\"\n",
    "        ax1.set_title( \"Correlations : %s\" % title )\n",
    "\n",
    "        labels = corrmat.columns.values\n",
    "        for ax in (ax1,):\n",
    "            # shift location of ticks to center of the bins\n",
    "            ax.set_xticks(np.arange(len(labels))+0.5, minor=False)\n",
    "            ax.set_yticks(np.arange(len(labels))+0.5, minor=False)\n",
    "            ax.set_xticklabels(labels, minor=False, ha='right', rotation=70)\n",
    "            ax.set_yticklabels(labels, minor=False)\n",
    "        plt.tight_layout()\n",
    "        plt.savefig('correlation_' + label + '.pdf')"
   ]
  },
  {
   "cell_type": "code",
   "execution_count": null,
   "metadata": {
    "collapsed": false,
    "deletable": true,
    "editable": true
   },
   "outputs": [],
   "source": [
    "correlations(  data=df,title = \"traffic features\", label = 'traffic_')"
   ]
  },
  {
   "cell_type": "markdown",
   "metadata": {
    "deletable": true,
    "editable": true
   },
   "source": [
    "let take a sub-sample of the time serie that I extracted from the DB, let make it the febrary mounth and let call it trainning sample"
   ]
  },
  {
   "cell_type": "code",
   "execution_count": null,
   "metadata": {
    "collapsed": true,
    "deletable": true,
    "editable": true
   },
   "outputs": [],
   "source": [
    "df_train = df.loc[\"2017-02-01\":\"2017-02-28\"]\n",
    "df_valid = df.loc[\"2017-03-01\":\"2017-03-02\"]\n",
    "df_total = df.loc[\"2017-02-01\":\"2017-03-02\"]"
   ]
  },
  {
   "cell_type": "code",
   "execution_count": null,
   "metadata": {
    "collapsed": false,
    "deletable": true,
    "editable": true
   },
   "outputs": [],
   "source": [
    "ewma = pd.stats.moments.ewma\n",
    "EMOV_n = ewma(df_train['data.attrs.delay'] , com=5 )"
   ]
  },
  {
   "cell_type": "code",
   "execution_count": null,
   "metadata": {
    "collapsed": false,
    "deletable": true,
    "editable": true
   },
   "outputs": [],
   "source": [
    "plt.figure(figsize=(14,3))\n",
    "plt.plot(df_train['data.attrs.delay'], lw=0.8, label = \"data\")\n",
    "plt.plot(df_train.index, EMOV_n      , lw=0.8, label = \"ewma\", c = \"red\")\n",
    "plt.show()"
   ]
  },
  {
   "cell_type": "code",
   "execution_count": null,
   "metadata": {
    "collapsed": false,
    "deletable": true,
    "editable": true
   },
   "outputs": [],
   "source": [
    "from pandas.tools.plotting import lag_plot\n",
    "plt.figure(figsize=(4,4))\n",
    "lag_plot(df_train['data.attrs.delay'][df_train[\"data.attrs.delay\"]>0], c='red', alpha=0.5)\n",
    "lag_plot(df_train['data.attrs.delay'],alpha=0.5)\n",
    "plt.show()"
   ]
  },
  {
   "cell_type": "code",
   "execution_count": null,
   "metadata": {
    "collapsed": false,
    "deletable": true,
    "editable": true
   },
   "outputs": [],
   "source": [
    "from pandas.tools.plotting import autocorrelation_plot\n",
    "plt.figure(figsize=(7,4))\n",
    "autocorrelation_plot(df_train['data.attrs.delay'], lw=0.9)\n",
    "plt.ylim([-0.2,0.5])\n",
    "plt.show()"
   ]
  },
  {
   "cell_type": "code",
   "execution_count": null,
   "metadata": {
    "collapsed": false,
    "deletable": true,
    "editable": true
   },
   "outputs": [],
   "source": [
    "from statsmodels.graphics.tsaplots import plot_acf\n",
    "plt.figure(figsize=(4,4))\n",
    "plot_acf(df_train['data.attrs.delay'], lw=0.8, lags=50)\n",
    "plt.show()"
   ]
  },
  {
   "cell_type": "code",
   "execution_count": null,
   "metadata": {
    "collapsed": false,
    "deletable": true,
    "editable": true
   },
   "outputs": [],
   "source": [
    "values = pd.DataFrame(df_train['data.attrs.delay'].values)\n",
    "dataframe = pd.concat([values.shift(1), values], axis=1)\n",
    "dataframe.columns = ['t-1', 't+1']\n",
    "result = dataframe.corr()\n",
    "print(result)"
   ]
  },
  {
   "cell_type": "code",
   "execution_count": null,
   "metadata": {
    "collapsed": false,
    "deletable": true,
    "editable": true
   },
   "outputs": [],
   "source": [
    "import numpy as np\n",
    "\n",
    "def organize_data(to_forecast, window, horizon):\n",
    "    \"\"\"\n",
    "     Input:\n",
    "      to_forecast, univariate time series organized as numpy array\n",
    "      window, number of items to use in the forecast window\n",
    "      horizon, horizon of the forecast\n",
    "     Output:\n",
    "      X, a matrix where each row contains a forecast window\n",
    "      y, the target values for each row of X\n",
    "    \"\"\"\n",
    "    shape = to_forecast.shape[:-1] + (to_forecast.shape[-1] - window + 1, window)\n",
    "    strides = to_forecast.strides + (to_forecast.strides[-1],)\n",
    "    X = np.lib.stride_tricks.as_strided(to_forecast, \n",
    "                                        shape=shape, \n",
    "                                        strides=strides)\n",
    "    y = np.array([X[i+horizon][-1] for i in range(len(X)-horizon)])\n",
    "    return X[:-horizon], y\n",
    "\n",
    "k = 4   # number of previous observations to use\n",
    "h = 24   # forecast horizon\n",
    "X,y = organize_data(df_train['data.attrs.delay'].values, k, h)"
   ]
  },
  {
   "cell_type": "code",
   "execution_count": null,
   "metadata": {
    "collapsed": false,
    "deletable": true,
    "editable": true
   },
   "outputs": [],
   "source": [
    "plt.figure(figsize=(20,4))\n",
    "plt.plot(X[:100,0])\n",
    "plt.plot(X[:100,1])\n",
    "plt.plot(X[:100,2])\n",
    "plt.plot(X[:100,3])\n",
    "plt.plot(y[:100],'--')"
   ]
  },
  {
   "cell_type": "code",
   "execution_count": null,
   "metadata": {
    "collapsed": false,
    "deletable": true,
    "editable": true
   },
   "outputs": [],
   "source": [
    "from sklearn.linear_model import LinearRegression\n",
    "\n",
    "regressor = LinearRegression(normalize=True)\n",
    "regressor.fit(X, y)"
   ]
  },
  {
   "cell_type": "markdown",
   "metadata": {
    "deletable": true,
    "editable": true
   },
   "source": [
    "## Let play with a signle time serie"
   ]
  },
  {
   "cell_type": "code",
   "execution_count": null,
   "metadata": {
    "collapsed": false,
    "deletable": true,
    "editable": true
   },
   "outputs": [],
   "source": [
    "ts     = df_train['data.attrs.delay']\n",
    "ts_std = (ts - ts.mean())/ts.std()"
   ]
  },
  {
   "cell_type": "code",
   "execution_count": null,
   "metadata": {
    "collapsed": false,
    "deletable": true,
    "editable": true
   },
   "outputs": [],
   "source": [
    "fig, ax = plt.subplots(figsize=(13,3))\n",
    "ax.plot(ts, label='serie')\n",
    "ax.plot(ts_std, label='std')\n",
    "ax.legend()"
   ]
  },
  {
   "cell_type": "code",
   "execution_count": null,
   "metadata": {
    "collapsed": false,
    "deletable": true,
    "editable": true
   },
   "outputs": [],
   "source": [
    "from statsmodels.tsa.stattools import acf, pacf\n",
    "\n",
    "plt.figure(figsize=(9,3))\n",
    "lag_acf  = acf (ts, nlags=10)\n",
    "lag_pacf = pacf(ts, nlags=10, method='ols')\n",
    "\n",
    "plt.subplot(121) \n",
    "plt.plot(lag_acf)\n",
    "plt.axhline(y=0,linestyle='--',color='gray')\n",
    "plt.axhline(y=-1.96/np.sqrt(len(ts)),linestyle='--',color='gray')\n",
    "plt.axhline(y= 1.96/np.sqrt(len(ts)),linestyle='--',color='gray')\n",
    "plt.title('Autocorrelation Function')\n",
    "\n",
    "plt.subplot(122)\n",
    "plt.plot(lag_pacf)\n",
    "plt.axhline(y=0,linestyle='--',color='gray')\n",
    "plt.axhline(y=-1.96/np.sqrt(len(ts)),linestyle='--',color='gray')\n",
    "plt.axhline(y= 1.96/np.sqrt(len(ts)),linestyle='--',color='gray')\n",
    "plt.title('Partial Autocorrelation Function')\n",
    "plt.tight_layout()\n",
    "\n",
    "plt.show()"
   ]
  },
  {
   "cell_type": "code",
   "execution_count": null,
   "metadata": {
    "collapsed": false,
    "deletable": true,
    "editable": true
   },
   "outputs": [],
   "source": [
    "from statsmodels.tsa.arima_model import ARIMA, ARMA"
   ]
  },
  {
   "cell_type": "code",
   "execution_count": null,
   "metadata": {
    "collapsed": false,
    "deletable": true,
    "editable": true
   },
   "outputs": [],
   "source": [
    "arima = ARIMA(ts_std, order=(2, 0, 0))  \n",
    "arima_res = arima.fit(disp=1) \n",
    "\n",
    "plt.figure(figsize=(15,3))\n",
    "plt.plot (ts)\n",
    "plt.plot ((arima_res.fittedvalues*ts.std() + ts.mean()), color='red')\n",
    "plt.title('RSS: %.4f'% (sum((arima_res.fittedvalues-ts)**2)/ts.shape[0]) )"
   ]
  },
  {
   "cell_type": "code",
   "execution_count": null,
   "metadata": {
    "collapsed": false,
    "deletable": true,
    "editable": true
   },
   "outputs": [],
   "source": [
    "arma = ARMA(ts_std,order=(2,1))  \n",
    "arma_res = arma.fit(trend='c', method='css-mle',disp=-1) \n",
    "\n",
    "plt.figure(figsize=(15,3))\n",
    "plt.plot (ts)\n",
    "plt.plot (( arma_res.fittedvalues*ts.std() + ts.mean()), color='red'  , label = 'arima(2,0,0)')\n",
    "plt.plot ((arima_res.fittedvalues*ts.std() + ts.mean()), color='green', label = 'arma (2,1)')\n",
    "plt.title('RSS: %.4f'% (sum((arma_res.fittedvalues-ts)**2)/ts.shape[0]) )\n",
    "plt.legend()"
   ]
  },
  {
   "cell_type": "code",
   "execution_count": null,
   "metadata": {
    "collapsed": false,
    "deletable": true,
    "editable": true
   },
   "outputs": [],
   "source": [
    "print arima_res.summary()\n",
    "print arma_res.summary()"
   ]
  },
  {
   "cell_type": "markdown",
   "metadata": {
    "deletable": true,
    "editable": true
   },
   "source": [
    "## VAR-models (vector-autoregression)"
   ]
  },
  {
   "cell_type": "markdown",
   "metadata": {
    "deletable": true,
    "editable": true
   },
   "source": [
    "Widely used model for modeling multiple (k-variate) time series. The model can be written as follow :\n",
    "* $y_{t} = A_1 y_{t-1} + ... + A_p  y_{t-p} + \\epsilon_t $ with $\\epsilon_t \\sim N(0, \\sigma)$\n",
    "* matrices $A_i$ are $k\\times k$\n",
    "* $y_t$ must be stationary process (sometimes achieved by diffenrencing). Related class models (VECM) for mdeling nonstaionary processes\n",
    "\n",
    "Let have a look to our data, and let use some information about the traffic that we already have in our dataframe."
   ]
  },
  {
   "cell_type": "code",
   "execution_count": null,
   "metadata": {
    "collapsed": false,
    "deletable": true,
    "editable": true
   },
   "outputs": [],
   "source": [
    "df[\"delay\"]         = df[\"data.attrs.delay\"]\n",
    "df[\"delayed_speed\"] = df[\"data.attrs.delayed_average_speed\"]\n",
    "df['workd']         = df['working_day'].astype(int)\n",
    "\n",
    "train_feat = [\n",
    "    'delay',\n",
    "    'delayed_speed',\n",
    "    'hod',\n",
    "    'dow', \n",
    "    \"workd\",\n",
    "#     \"TemperatureC\", \n",
    "#     'Humidity'\n",
    "]\n",
    "df_train = df.loc[\"2017-02-10\":\"2017-03-10\"][train_feat]\n",
    "df_valid = df.loc[\"2017-03-10\":\"2017-03-17\"][train_feat]\n",
    "df_total = df.loc[\"2017-02-10\":\"2017-03-17\"][train_feat]"
   ]
  },
  {
   "cell_type": "code",
   "execution_count": null,
   "metadata": {
    "collapsed": false,
    "deletable": true,
    "editable": true
   },
   "outputs": [],
   "source": [
    "from statsmodels.tsa.vector_ar.var_model import VAR"
   ]
  },
  {
   "cell_type": "code",
   "execution_count": null,
   "metadata": {
    "collapsed": false,
    "deletable": true,
    "editable": true,
    "scrolled": false
   },
   "outputs": [],
   "source": [
    "var_model = VAR(df_train)\n",
    "var_res   = var_model.fit(4)\n",
    "print var_res.summary()"
   ]
  },
  {
   "cell_type": "code",
   "execution_count": null,
   "metadata": {
    "collapsed": false,
    "deletable": true,
    "editable": true
   },
   "outputs": [],
   "source": [
    "var_res.plot()"
   ]
  },
  {
   "cell_type": "markdown",
   "metadata": {
    "deletable": true,
    "editable": true
   },
   "source": [
    "### Lag order selection\n",
    "\n",
    "Choice of lag order can be a difficult problem. Standard analysis employs likelihood test or information criteria-based order selection. The latter is implemented on statsmodels : "
   ]
  },
  {
   "cell_type": "code",
   "execution_count": null,
   "metadata": {
    "collapsed": false,
    "deletable": true,
    "editable": true
   },
   "outputs": [],
   "source": [
    "var_model.select_order(30)"
   ]
  },
  {
   "cell_type": "markdown",
   "metadata": {
    "deletable": true,
    "editable": true
   },
   "source": [
    "This gives an interesting result, the minimum of the explored features agree for a lag of 24 hours. When calling the fit function, we can pass a maximum number of lags and the order criterion to use for order selection "
   ]
  },
  {
   "cell_type": "code",
   "execution_count": null,
   "metadata": {
    "collapsed": true,
    "deletable": true,
    "editable": true
   },
   "outputs": [],
   "source": [
    "var_res =  var_model.fit(maxlags=26, ic='aic')"
   ]
  },
  {
   "cell_type": "code",
   "execution_count": null,
   "metadata": {
    "collapsed": false,
    "deletable": true,
    "editable": true
   },
   "outputs": [],
   "source": [
    "figsize=(15,5)\n",
    "irf = var_res.irf(24)\n",
    "irf.plot()"
   ]
  },
  {
   "cell_type": "code",
   "execution_count": null,
   "metadata": {
    "collapsed": false,
    "deletable": true,
    "editable": true
   },
   "outputs": [],
   "source": [
    "var_res.test_causality('delay', ['delayed_speed'])"
   ]
  },
  {
   "cell_type": "markdown",
   "metadata": {
    "deletable": true,
    "editable": true
   },
   "source": [
    "### Forcasting using VAR-model"
   ]
  },
  {
   "cell_type": "code",
   "execution_count": null,
   "metadata": {
    "collapsed": false,
    "deletable": true,
    "editable": true
   },
   "outputs": [],
   "source": [
    "lag_order  = var_res.k_ar\n",
    "print \"lag_order : \", lag_order\n",
    "prediction = var_res.forecast(df_train.values[-2*lag_order:], df_valid.index.shape[0] )"
   ]
  },
  {
   "cell_type": "code",
   "execution_count": null,
   "metadata": {
    "collapsed": false,
    "deletable": true,
    "editable": true
   },
   "outputs": [],
   "source": [
    "print df_valid.index.shape\n",
    "print prediction[:,0]"
   ]
  },
  {
   "cell_type": "code",
   "execution_count": null,
   "metadata": {
    "collapsed": false,
    "deletable": true,
    "editable": true,
    "scrolled": false
   },
   "outputs": [],
   "source": [
    "plt.figure(figsize=(15,3))\n",
    "plt.plot (df_train['delay'], label='training')\n",
    "plt.plot (df_valid['delay'], label='validation')\n",
    "\n",
    "plt.plot (df_valid.index, prediction[:,0], color='red', label='prediction')\n",
    "# plt.plot (df_valid.index, prediction[:,0]/prediction[:,3], color='blue', label='weighted', ls='--')\n",
    "plt.ylabel('delay')\n",
    "plt.legend()"
   ]
  },
  {
   "cell_type": "code",
   "execution_count": null,
   "metadata": {
    "collapsed": false,
    "deletable": true,
    "editable": true
   },
   "outputs": [],
   "source": [
    "plt.figure(figsize=(15,3))\n",
    "plt.plot (df_train['delayed_speed'], label='training')\n",
    "plt.plot (df_valid['delayed_speed'], label='validation')\n",
    "\n",
    "plt.plot (df_valid.index, prediction[:,1], color='red', label='prediction')\n",
    "plt.ylabel('delayed_speed')\n",
    "plt.legend()"
   ]
  },
  {
   "cell_type": "code",
   "execution_count": null,
   "metadata": {
    "collapsed": false,
    "deletable": true,
    "editable": true
   },
   "outputs": [],
   "source": [
    "# plt.figure(figsize=(15,3))\n",
    "# plt.plot (df_train['dow'], label='training')\n",
    "# plt.plot (df_valid['dow'], label='validation')\n",
    "\n",
    "# plt.plot (df_valid.index, prediction[:,4], color='red', label='prediction')\n",
    "# plt.ylabel('delay')\n",
    "# plt.legend()"
   ]
  },
  {
   "cell_type": "markdown",
   "metadata": {
    "deletable": true,
    "editable": true
   },
   "source": [
    "### Univariate Prediction\n",
    "\n",
    "#### resemapling, and rolling mean\n",
    "\n",
    "These methods aren't unique to DatetimeIndexes, but they often make sense with time series, so I'll show them here."
   ]
  },
  {
   "cell_type": "code",
   "execution_count": null,
   "metadata": {
    "collapsed": true,
    "deletable": true,
    "editable": true
   },
   "outputs": [],
   "source": []
  }
 ],
 "metadata": {
  "kernelspec": {
   "display_name": "Python 2",
   "language": "python",
   "name": "python2"
  },
  "language_info": {
   "codemirror_mode": {
    "name": "ipython",
    "version": 2
   },
   "file_extension": ".py",
   "mimetype": "text/x-python",
   "name": "python",
   "nbconvert_exporter": "python",
   "pygments_lexer": "ipython2",
   "version": "2.7.12"
  }
 },
 "nbformat": 4,
 "nbformat_minor": 1
}
