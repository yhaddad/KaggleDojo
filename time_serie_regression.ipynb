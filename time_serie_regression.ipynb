{
 "cells": [
  {
   "cell_type": "code",
   "execution_count": 1,
   "metadata": {
    "collapsed": false,
    "deletable": true,
    "editable": true
   },
   "outputs": [],
   "source": [
    "import urllib, json, objectpath\n",
    "from pprint import pprint"
   ]
  },
  {
   "cell_type": "code",
   "execution_count": 2,
   "metadata": {
    "collapsed": true,
    "deletable": true,
    "editable": true
   },
   "outputs": [],
   "source": [
    "def get_data(route):\n",
    "    response = urllib.urlopen('http://pendlr.risc-software.at/log?id=[\"%s\"]&num=10000' % route)\n",
    "    data = json.loads(response.read())\n",
    "    tree_obj = objectpath.Tree(data)\n",
    "    return tuple(tree_obj.execute('$..entries'))\n",
    "def get_route():\n",
    "    response = urllib.urlopen('http://pendlr.risc-software.at/log?num=10000')\n",
    "    data = json.loads(response.read())\n",
    "    tree_obj = objectpath.Tree(data)\n",
    "    return tuple(tree_obj.execute('$..id'))"
   ]
  },
  {
   "cell_type": "markdown",
   "metadata": {
    "deletable": true,
    "editable": true
   },
   "source": [
    "The methods above will return json files with the relevent inforamtion, the routes names and the corresponding json.\n",
    "\n",
    "Todo:\n",
    "* Get the direction and see which route in close to another\n",
    "* Merge the current traffic data with the weather data \n",
    "* make correlations between weather and traffic"
   ]
  },
  {
   "cell_type": "code",
   "execution_count": 3,
   "metadata": {
    "collapsed": false,
    "deletable": true,
    "editable": true
   },
   "outputs": [
    {
     "name": "stdout",
     "output_type": "stream",
     "text": [
      "-- route :  cur.einwaerts.haselgraben.traffic.risc-software.at\n",
      "-- route :  cur.urfahr.b127.traffic.risc-software.at\n",
      "-- route :  cur.traun.b1.traffic.risc-software.at\n",
      "-- route :  cur.bindermichl.b1.traffic.risc-software.at\n",
      "-- route :  cur.auswaerts.bindermichl.traffic.risc-software.at\n",
      "-- route :  cur.linz.steyreggerbruecke.traffic.risc-software.at\n",
      "-- route :  cur.linz.autobahnbruecke.traffic.risc-software.at\n",
      "-- route :  cur.haid.knotenlinz.traffic.risc-software.at\n",
      "-- route :  cur.wilhering.b129.traffic.risc-software.at\n",
      "-- route :  cur.einwaerts.bindermichl.traffic.risc-software.at\n",
      "-- route :  cur.steyregg.steyreggerbruecke.traffic.risc-software.at\n",
      "-- route :  cur.urfahr.autobahnbruecke.traffic.risc-software.at\n",
      "-- route :  cur.rohrbach.b127.traffic.risc-software.at\n",
      "-- route :  cur.florianerstrasse.knotenlinz.traffic.risc-software.at\n",
      "-- route :  cur.zentrum.nibelungenbruecke.traffic.risc-software.at\n",
      "-- route :  cur.franzosenhausweg.knotenlinz.traffic.risc-software.at\n",
      "-- route :  cur.auswaerts.haselgraben.traffic.risc-software.at\n",
      "-- route :  cur.urfahr.nibelungenbruecke.traffic.risc-software.at\n",
      "-- route :  cur.zentrum.b129.traffic.risc-software.at\n"
     ]
    }
   ],
   "source": [
    "routes = get_route()\n",
    "cur_data   = {}\n",
    "\n",
    "for r in routes :\n",
    "    if 'cur.' in r:\n",
    "        print \"-- route : \", r\n",
    "        cur_data[r] = get_data(r)"
   ]
  },
  {
   "cell_type": "code",
   "execution_count": 4,
   "metadata": {
    "collapsed": false,
    "deletable": true,
    "editable": true
   },
   "outputs": [
    {
     "name": "stdout",
     "output_type": "stream",
     "text": [
      "{u'data': {u'attrs': {u'average_speed': 57.6,\n",
      "                      u'delay': 6,\n",
      "                      u'delayed_average_speed': 57.6,\n",
      "                      u'distance': [10002],\n",
      "                      u'duration': [615],\n",
      "                      u'duration_in_traffic': [621],\n",
      "                      u'total_distance': 10002,\n",
      "                      u'total_duration': 615,\n",
      "                      u'total_duration_in_traffic': 621},\n",
      "           u'nip': u'10.32.5.17',\n",
      "           u'o_id': u'cur.urfahr.b127.traffic.risc-software.at'},\n",
      " u'latency': 111,\n",
      " u'ts': 1482327007429}\n",
      "{u'data': {u'attrs': {u'average_speed': 57.6,\n",
      "                      u'delay': 44,\n",
      "                      u'delayed_average_speed': 50.4,\n",
      "                      u'distance': [9988],\n",
      "                      u'duration': [624],\n",
      "                      u'duration_in_traffic': [668],\n",
      "                      u'total_distance': 9988,\n",
      "                      u'total_duration': 624,\n",
      "                      u'total_duration_in_traffic': 668},\n",
      "           u'nip': u'10.32.5.17',\n",
      "           u'o_id': u'cur.rohrbach.b127.traffic.risc-software.at'},\n",
      " u'latency': 72,\n",
      " u'ts': 1482327007072}\n",
      "'---------------------'\n",
      "{u'data': {u'attrs': {u'average_speed': 39.6,\n",
      "                      u'delay': 0,\n",
      "                      u'delayed_average_speed': 43.2,\n",
      "                      u'distance': [4316],\n",
      "                      u'duration': [362],\n",
      "                      u'duration_in_traffic': [356],\n",
      "                      u'total_distance': 4316,\n",
      "                      u'total_duration': 362,\n",
      "                      u'total_duration_in_traffic': 356},\n",
      "           u'nip': u'10.32.5.17',\n",
      "           u'o_id': u'cur.wilhering.b129.traffic.risc-software.at'},\n",
      " u'latency': 48,\n",
      " u'ts': 1482327006711}\n",
      "{u'data': {u'attrs': {u'average_speed': 39.6,\n",
      "                      u'delay': 8,\n",
      "                      u'delayed_average_speed': 39.6,\n",
      "                      u'distance': [4084],\n",
      "                      u'duration': [359],\n",
      "                      u'duration_in_traffic': [367],\n",
      "                      u'total_distance': 4084,\n",
      "                      u'total_duration': 359,\n",
      "                      u'total_duration_in_traffic': 367},\n",
      "           u'nip': u'10.32.5.17',\n",
      "           u'o_id': u'cur.zentrum.b129.traffic.risc-software.at'},\n",
      " u'latency': 69,\n",
      " u'ts': 1482327007281}\n"
     ]
    }
   ],
   "source": [
    "pprint(cur_data['cur.urfahr.b127.traffic.risc-software.at'  ][0])\n",
    "pprint(cur_data['cur.rohrbach.b127.traffic.risc-software.at'][0])\n",
    "pprint(\"---------------------\")\n",
    "pprint(cur_data['cur.wilhering.b129.traffic.risc-software.at' ][0])\n",
    "pprint(cur_data['cur.zentrum.b129.traffic.risc-software.at'   ][0])"
   ]
  },
  {
   "cell_type": "markdown",
   "metadata": {},
   "source": [
    "From these output, we can see that that the usefull features would be the following:\n",
    "\n",
    "```json\n",
    "{u'attrs': {\n",
    "      'average_speed'            : 39.6,\n",
    "      'delay'                    : 8,\n",
    "      'delayed_average_speed'    : 39.6,\n",
    "      'total_distance'           : 4084,\n",
    "      'total_duration'           : 359,\n",
    "      'total_duration_in_traffic': 367\n",
    "      }\n",
    "}\n",
    "```\n",
    "\n",
    "For example the `total_duration` and `duration` are shown be on the same values. So one question rises, why `duration` here is a list and why it has the same value as the total one. "
   ]
  },
  {
   "cell_type": "code",
   "execution_count": 5,
   "metadata": {
    "collapsed": false,
    "deletable": true,
    "editable": true
   },
   "outputs": [],
   "source": [
    "import pandas as pd \n",
    "from pandas.io.json import json_normalize"
   ]
  },
  {
   "cell_type": "code",
   "execution_count": 6,
   "metadata": {
    "collapsed": false,
    "deletable": true,
    "editable": true
   },
   "outputs": [
    {
     "name": "stdout",
     "output_type": "stream",
     "text": [
      "-- route :  cur.wilhering.b129.traffic.risc-software.at\n",
      "-- route :  cur.steyregg.steyreggerbruecke.traffic.risc-software.at\n",
      "-- route :  cur.haid.knotenlinz.traffic.risc-software.at\n",
      "-- route :  cur.bindermichl.b1.traffic.risc-software.at\n",
      "-- route :  cur.urfahr.autobahnbruecke.traffic.risc-software.at\n",
      "-- route :  cur.linz.autobahnbruecke.traffic.risc-software.at\n",
      "-- route :  cur.urfahr.nibelungenbruecke.traffic.risc-software.at\n",
      "-- route :  cur.urfahr.b127.traffic.risc-software.at\n",
      "-- route :  cur.rohrbach.b127.traffic.risc-software.at\n",
      "-- route :  cur.auswaerts.bindermichl.traffic.risc-software.at\n",
      "-- route :  cur.franzosenhausweg.knotenlinz.traffic.risc-software.at\n",
      "-- route :  cur.florianerstrasse.knotenlinz.traffic.risc-software.at\n",
      "-- route :  cur.zentrum.b129.traffic.risc-software.at\n",
      "-- route :  cur.zentrum.nibelungenbruecke.traffic.risc-software.at\n",
      "-- route :  cur.linz.steyreggerbruecke.traffic.risc-software.at\n",
      "-- route :  cur.einwaerts.haselgraben.traffic.risc-software.at\n",
      "-- route :  cur.einwaerts.bindermichl.traffic.risc-software.at\n",
      "-- route :  cur.traun.b1.traffic.risc-software.at\n",
      "-- route :  cur.auswaerts.haselgraben.traffic.risc-software.at\n"
     ]
    }
   ],
   "source": [
    "cur_df = {}\n",
    "for c in cur_data:\n",
    "    print '-- route : ', c\n",
    "    cur_df[c] = json_normalize(cur_data[c])"
   ]
  },
  {
   "cell_type": "markdown",
   "metadata": {},
   "source": [
    "After the normalisation of the json file, to make it easy to read, someone can use one root to extract the all the available features. But earlier we showed the most interetsing features so we are going to take those as the feature that we want to analyse"
   ]
  },
  {
   "cell_type": "code",
   "execution_count": 17,
   "metadata": {
    "collapsed": true,
    "deletable": true,
    "editable": true
   },
   "outputs": [],
   "source": [
    "features =  [\n",
    "    'ts',\n",
    "    'data.attrs.delay'                    ,\n",
    "    'data.attrs.average_speed'            ,\n",
    "    'data.attrs.delayed_average_speed'    ,\n",
    "    'data.attrs.total_distance'           ,\n",
    "    'data.attrs.total_duration'           ,\n",
    "    'data.attrs.total_duration_in_traffic'\n",
    "]"
   ]
  },
  {
   "cell_type": "markdown",
   "metadata": {},
   "source": [
    "### Running an example on just one route\n",
    "\n",
    "let selection the `b129` root one of busiest route,"
   ]
  },
  {
   "cell_type": "code",
   "execution_count": 18,
   "metadata": {
    "collapsed": false,
    "deletable": true,
    "editable": true
   },
   "outputs": [
    {
     "name": "stdout",
     "output_type": "stream",
     "text": [
      " number of features ::  7\n"
     ]
    },
    {
     "data": {
      "text/html": [
       "<div>\n",
       "<table border=\"1\" class=\"dataframe\">\n",
       "  <thead>\n",
       "    <tr style=\"text-align: right;\">\n",
       "      <th></th>\n",
       "      <th>ts</th>\n",
       "      <th>data.attrs.delay</th>\n",
       "      <th>data.attrs.average_speed</th>\n",
       "      <th>data.attrs.delayed_average_speed</th>\n",
       "      <th>data.attrs.total_distance</th>\n",
       "      <th>data.attrs.total_duration</th>\n",
       "      <th>data.attrs.total_duration_in_traffic</th>\n",
       "      <th>direction</th>\n",
       "    </tr>\n",
       "  </thead>\n",
       "  <tbody>\n",
       "    <tr>\n",
       "      <th>0</th>\n",
       "      <td>1.482327e+12</td>\n",
       "      <td>0.0</td>\n",
       "      <td>39.6</td>\n",
       "      <td>43.2</td>\n",
       "      <td>4316.0</td>\n",
       "      <td>362.0</td>\n",
       "      <td>356.0</td>\n",
       "      <td>1.0</td>\n",
       "    </tr>\n",
       "    <tr>\n",
       "      <th>1</th>\n",
       "      <td>1.482328e+12</td>\n",
       "      <td>0.0</td>\n",
       "      <td>39.6</td>\n",
       "      <td>43.2</td>\n",
       "      <td>4316.0</td>\n",
       "      <td>362.0</td>\n",
       "      <td>359.0</td>\n",
       "      <td>1.0</td>\n",
       "    </tr>\n",
       "    <tr>\n",
       "      <th>2</th>\n",
       "      <td>1.482328e+12</td>\n",
       "      <td>0.0</td>\n",
       "      <td>39.6</td>\n",
       "      <td>39.6</td>\n",
       "      <td>4316.0</td>\n",
       "      <td>362.0</td>\n",
       "      <td>361.0</td>\n",
       "      <td>1.0</td>\n",
       "    </tr>\n",
       "    <tr>\n",
       "      <th>3</th>\n",
       "      <td>1.482328e+12</td>\n",
       "      <td>0.0</td>\n",
       "      <td>39.6</td>\n",
       "      <td>43.2</td>\n",
       "      <td>4316.0</td>\n",
       "      <td>362.0</td>\n",
       "      <td>355.0</td>\n",
       "      <td>1.0</td>\n",
       "    </tr>\n",
       "    <tr>\n",
       "      <th>4</th>\n",
       "      <td>1.482329e+12</td>\n",
       "      <td>0.0</td>\n",
       "      <td>39.6</td>\n",
       "      <td>43.2</td>\n",
       "      <td>4316.0</td>\n",
       "      <td>362.0</td>\n",
       "      <td>358.0</td>\n",
       "      <td>1.0</td>\n",
       "    </tr>\n",
       "  </tbody>\n",
       "</table>\n",
       "</div>"
      ],
      "text/plain": [
       "             ts  data.attrs.delay  data.attrs.average_speed  \\\n",
       "0  1.482327e+12               0.0                      39.6   \n",
       "1  1.482328e+12               0.0                      39.6   \n",
       "2  1.482328e+12               0.0                      39.6   \n",
       "3  1.482328e+12               0.0                      39.6   \n",
       "4  1.482329e+12               0.0                      39.6   \n",
       "\n",
       "   data.attrs.delayed_average_speed  data.attrs.total_distance  \\\n",
       "0                              43.2                     4316.0   \n",
       "1                              43.2                     4316.0   \n",
       "2                              39.6                     4316.0   \n",
       "3                              43.2                     4316.0   \n",
       "4                              43.2                     4316.0   \n",
       "\n",
       "   data.attrs.total_duration  data.attrs.total_duration_in_traffic  direction  \n",
       "0                      362.0                                 356.0        1.0  \n",
       "1                      362.0                                 359.0        1.0  \n",
       "2                      362.0                                 361.0        1.0  \n",
       "3                      362.0                                 355.0        1.0  \n",
       "4                      362.0                                 358.0        1.0  "
      ]
     },
     "execution_count": 18,
     "metadata": {},
     "output_type": "execute_result"
    }
   ],
   "source": [
    "import numpy as np\n",
    "print \" number of features :: \", len(features)\n",
    "X  = np.concatenate((cur_df['cur.wilhering.b129.traffic.risc-software.at'][features], \n",
    "                     cur_df['cur.zentrum.b129.traffic.risc-software.at'  ][features]))\n",
    "\n",
    "Y  = np.concatenate((+np.ones(cur_df['cur.wilhering.b129.traffic.risc-software.at'].shape[0]), \n",
    "                     -np.ones(cur_df['cur.zentrum.b129.traffic.risc-software.at'  ].shape[0])))\n",
    "\n",
    "df = pd.DataFrame(np.hstack((X, Y.reshape(Y.shape[0], -1))), columns = features + ['direction'])\n",
    "df.head()"
   ]
  },
  {
   "cell_type": "code",
   "execution_count": 19,
   "metadata": {
    "collapsed": false,
    "deletable": true,
    "editable": true,
    "scrolled": false
   },
   "outputs": [],
   "source": [
    "df['date'] = pd.to_datetime(df['ts']/1000.0, unit='s')"
   ]
  },
  {
   "cell_type": "code",
   "execution_count": 20,
   "metadata": {
    "collapsed": false,
    "deletable": true,
    "editable": true
   },
   "outputs": [],
   "source": [
    "import time\n",
    "from dateutil import parser, rrule\n",
    "from datetime import datetime, time, date\n",
    "\n",
    "df['day'] = df['date'].apply(lambda x: x.date())\n",
    "df['tod'] = df['date'].apply(lambda x: x.time())\n",
    "df['dow'] = df['date'].apply(lambda x: x.weekday())    \n",
    "df['hod'] = df['tod' ].apply(lambda x: x.hour)\n",
    "\n",
    "# Is each time stamp on a working day (Mon-Fri)\n",
    "df['working_day'] = (df['dow'] >= 0) & (df['dow'] <= 4)\n",
    " \n",
    "# Classify into morning or evening times (assuming travel between 8.15-9am and 5.15-6pm)\n",
    "df['morning'] = (df['tod'] >= time( 6, 0)) & (df['tod'] <= time( 9,0))\n",
    "df['evening'] = (df['tod'] >= time(15, 0)) & (df['tod'] <= time(18,0))"
   ]
  },
  {
   "cell_type": "markdown",
   "metadata": {},
   "source": [
    "Let create a calendar vosualtion of the average delay"
   ]
  },
  {
   "cell_type": "code",
   "execution_count": 24,
   "metadata": {
    "collapsed": false,
    "deletable": true,
    "editable": true
   },
   "outputs": [
    {
     "data": {
      "image/png": "[encoded data removed]",
      "text/plain": [
       "<matplotlib.figure.Figure at 0x7f17a60448d0>"
      ]
     },
     "metadata": {},
     "output_type": "display_data"
    },
    {
     "data": {
      "image/png": "[encoded data removed]",
      "text/plain": [
       "<matplotlib.figure.Figure at 0x7f17a4a50e10>"
      ]
     },
     "metadata": {},
     "output_type": "display_data"
    },
    {
     "data": {
      "image/png": "[encoded data removed]",
      "text/plain": [
       "<matplotlib.figure.Figure at 0x7f17a45bd8d0>"
      ]
     },
     "metadata": {},
     "output_type": "display_data"
    },
    {
     "data": {
      "image/png": "[encoded data removed]",
      "text/plain": [
       "<matplotlib.figure.Figure at 0x7f17a02dd5d0>"
      ]
     },
     "metadata": {},
     "output_type": "display_data"
    },
    {
     "data": {
      "image/png": "[encoded data removed]",
      "text/plain": [
       "<matplotlib.figure.Figure at 0x7f17a02dd750>"
      ]
     },
     "metadata": {},
     "output_type": "display_data"
    },
    {
     "data": {
      "image/png": "[encoded data removed]",
      "text/plain": [
       "<matplotlib.figure.Figure at 0x7f17a0230c90>"
      ]
     },
     "metadata": {},
     "output_type": "display_data"
    }
   ],
   "source": [
    "import matplotlib.pyplot as plt\n",
    "import calmap\n",
    "import numpy  as np\n",
    "import pandas as pd\n",
    "from matplotlib import dates\n",
    "\n",
    "%matplotlib inline\n",
    "\n",
    "for feat in features[1:]:\n",
    "    dev_sr = pd.Series(df[feat].values, index=df[\"date\"])\n",
    "    plt.figure(figsize=(14,5))\n",
    "    calmap.yearplot(dev_sr, year=2017)\n",
    "    plt.title(feat)"
   ]
  },
  {
   "cell_type": "code",
   "execution_count": null,
   "metadata": {
    "collapsed": true
   },
   "outputs": [],
   "source": []
  },
  {
   "cell_type": "code",
   "execution_count": null,
   "metadata": {
    "collapsed": false,
    "deletable": true,
    "editable": true
   },
   "outputs": [],
   "source": [
    "serie = pd.Series(df['data.attrs.delay'].values, index=df[\"date\"])\n",
    "dd = pd.DataFrame(serie)\n",
    "dd.reset_index(inplace=True)\n",
    "dd.head()"
   ]
  },
  {
   "cell_type": "code",
   "execution_count": null,
   "metadata": {
    "collapsed": false,
    "deletable": true,
    "editable": true
   },
   "outputs": [],
   "source": [
    "dd = df"
   ]
  },
  {
   "cell_type": "code",
   "execution_count": null,
   "metadata": {
    "collapsed": false,
    "deletable": true,
    "editable": true
   },
   "outputs": [],
   "source": [
    "dd = dd.reset_index().groupby(['hour_of_day']).mean()\n",
    "dd.reset_index(inplace=True)\n",
    "dd.head()"
   ]
  },
  {
   "cell_type": "code",
   "execution_count": null,
   "metadata": {
    "collapsed": false,
    "deletable": true,
    "editable": true
   },
   "outputs": [],
   "source": [
    "dd['day'] = dd['day'].apply(lambda x: datetime.strptime(str(x), '%Y-%M-%d'))"
   ]
  },
  {
   "cell_type": "code",
   "execution_count": null,
   "metadata": {
    "collapsed": false,
    "deletable": true,
    "editable": true
   },
   "outputs": [],
   "source": [
    "plt.figure(figsize=(10,5))\n",
    "plt.plot(dd['hour_of_day'], dd['data.attrs.delay'])"
   ]
  },
  {
   "cell_type": "code",
   "execution_count": null,
   "metadata": {
    "collapsed": true,
    "deletable": true,
    "editable": true
   },
   "outputs": [],
   "source": [
    "for c in cur_data:\n",
    "    cur_df[c]['date'] = pd.to_datetime(cur_df[c]['ts']/1000.0, unit='s')"
   ]
  },
  {
   "cell_type": "code",
   "execution_count": null,
   "metadata": {
    "collapsed": false,
    "deletable": true,
    "editable": true,
    "scrolled": false
   },
   "outputs": [],
   "source": [
    "for f in features :\n",
    "    for c in cur_df:\n",
    "        print '-- ', f, ' ', c\n",
    "        if str(cur_df[c][f].dtype) == \"object\": continue\n",
    "        plt.figure(figsize=(14,3))\n",
    "        plt.title(c)\n",
    "        plt.plot(cur_df[c][\"date\"], cur_df[c][f], lw=0.8)\n",
    "        plt.ylabel(f)\n",
    "        plt.show()"
   ]
  },
  {
   "cell_type": "code",
   "execution_count": null,
   "metadata": {
    "collapsed": true,
    "deletable": true,
    "editable": true
   },
   "outputs": [],
   "source": [
    "train_data = cur_df['cur.zentrum.nibelungenbruecke.traffic.risc-software.at']"
   ]
  },
  {
   "cell_type": "code",
   "execution_count": null,
   "metadata": {
    "collapsed": false,
    "deletable": true,
    "editable": true
   },
   "outputs": [],
   "source": [
    "from itertools import chain\n",
    "\n",
    "\n",
    "for f in features :\n",
    "    print '-- ', f, ' ', c\n",
    "    if str(train_data[f].dtype) == \"object\": \n",
    "        train_data[f] = pd.Series(list(chain(*train_data[f].values)))\n",
    "    plt.figure(figsize=(14,3))\n",
    "    plt.title(c)\n",
    "    plt.plot(train_data[\"date\"], train_data[f], lw=0.8)\n",
    "    plt.ylabel(f)\n",
    "    plt.show()"
   ]
  },
  {
   "cell_type": "code",
   "execution_count": null,
   "metadata": {
    "collapsed": false,
    "deletable": true,
    "editable": true
   },
   "outputs": [],
   "source": [
    "train_data[\"date\"]\n",
    "train_serie = pd.Series(train_data['data.attrs.delay'].values, \n",
    "                        index=train_data[\"date\"])\n",
    "train_serie.between_time(start_time='01:00', end_time='02:00')"
   ]
  },
  {
   "cell_type": "code",
   "execution_count": null,
   "metadata": {
    "collapsed": false,
    "deletable": true,
    "editable": true
   },
   "outputs": [],
   "source": [
    "plt.figure(figsize=(14,3))\n",
    "plt.title(c)\n",
    "plt.plot(train_serie.loc['2017-01-08':'2017-03-04'],lw=1)\n",
    "plt.plot(train_serie.loc['2017-02-05':'2017-03-04'],lw=1)\n",
    "plt.ylabel(f)\n",
    "plt.show()"
   ]
  },
  {
   "cell_type": "code",
   "execution_count": null,
   "metadata": {
    "collapsed": true,
    "deletable": true,
    "editable": true
   },
   "outputs": [],
   "source": [
    "def get_precip(gooddate):\n",
    "    urlstart = 'http://api.wunderground.com/api/0af2503015c7c8fd/history_'\n",
    "    urlend = '/q/Austria/Linz.json'\n",
    "\n",
    "    url = urlstart + str(gooddate) + urlend\n",
    "    data = requests.get(url).json()\n",
    "    for summary in data['history']['dailysummary']:\n",
    "        print ','.join((gooddate,summary['date']['year'],\n",
    "                        summary['date']['mon'],\n",
    "                        summary['date']['mday'],\n",
    "                        summary['precipm'], \n",
    "                        summary['maxtempm'], \n",
    "                        summary['meantempm'],\n",
    "                        summary['mintempm']))"
   ]
  },
  {
   "cell_type": "code",
   "execution_count": null,
   "metadata": {
    "collapsed": true,
    "deletable": true,
    "editable": true
   },
   "outputs": [],
   "source": []
  },
  {
   "cell_type": "code",
   "execution_count": null,
   "metadata": {
    "collapsed": false,
    "deletable": true,
    "editable": true
   },
   "outputs": [],
   "source": [
    "plt.figure(figsize=(14,3))\n",
    "plt.title(c)\n",
    "plt.plot(train_serie.loc['2017-02-18':'2017-03-04'],lw=1)\n",
    "plt.ylabel(f)\n",
    "plt.show()"
   ]
  },
  {
   "cell_type": "code",
   "execution_count": null,
   "metadata": {
    "collapsed": false,
    "deletable": true,
    "editable": true
   },
   "outputs": [],
   "source": [
    "ewma = pd.stats.moments.ewma\n",
    "EMOV_n = ewma( train_data['data.attrs.delay'] , com=5 )"
   ]
  },
  {
   "cell_type": "code",
   "execution_count": null,
   "metadata": {
    "collapsed": false,
    "deletable": true,
    "editable": true
   },
   "outputs": [],
   "source": [
    "plt.figure(figsize=(14,3))\n",
    "plt.title(c)\n",
    "plt.plot(train_data[\"date\"], EMOV_n       , lw=0.8)\n",
    "plt.plot(train_data[\"date\"], train_data['data.attrs.delay'], lw=0.8)\n",
    "plt.ylabel(f)\n",
    "plt.show()"
   ]
  },
  {
   "cell_type": "code",
   "execution_count": null,
   "metadata": {
    "collapsed": false,
    "deletable": true,
    "editable": true
   },
   "outputs": [],
   "source": [
    "from pandas.tools.plotting import lag_plot\n",
    "plt.figure(figsize=(4,4))\n",
    "lag_plot(train_data['data.attrs.delay'])\n",
    "plt.show()"
   ]
  },
  {
   "cell_type": "code",
   "execution_count": null,
   "metadata": {
    "collapsed": false,
    "deletable": true,
    "editable": true
   },
   "outputs": [],
   "source": [
    "from pandas.tools.plotting import autocorrelation_plot\n",
    "plt.figure(figsize=(4,4))\n",
    "autocorrelation_plot(train_data['data.attrs.delay'], lw=0.8)\n",
    "plt.show()"
   ]
  },
  {
   "cell_type": "code",
   "execution_count": null,
   "metadata": {
    "collapsed": false,
    "deletable": true,
    "editable": true
   },
   "outputs": [],
   "source": [
    "from statsmodels.graphics.tsaplots import plot_acf\n",
    "plt.figure(figsize=(4,4))\n",
    "plot_acf(train_data['data.attrs.delay'], lw=0.8, lags=50)\n",
    "plt.show()"
   ]
  },
  {
   "cell_type": "code",
   "execution_count": null,
   "metadata": {
    "collapsed": false,
    "deletable": true,
    "editable": true
   },
   "outputs": [],
   "source": [
    "values = pd.DataFrame(train_data['data.attrs.delay'].values)\n",
    "dataframe = pd.concat([values.shift(1), values], axis=1)\n",
    "dataframe.columns = ['t-1', 't+1']\n",
    "result = dataframe.corr()\n",
    "print(result)"
   ]
  },
  {
   "cell_type": "code",
   "execution_count": null,
   "metadata": {
    "collapsed": false,
    "deletable": true,
    "editable": true
   },
   "outputs": [],
   "source": [
    "import numpy as np\n",
    "\n",
    "def organize_data(to_forecast, window, horizon):\n",
    "    \"\"\"\n",
    "     Input:\n",
    "      to_forecast, univariate time series organized as numpy array\n",
    "      window, number of items to use in the forecast window\n",
    "      horizon, horizon of the forecast\n",
    "     Output:\n",
    "      X, a matrix where each row contains a forecast window\n",
    "      y, the target values for each row of X\n",
    "    \"\"\"\n",
    "    shape = to_forecast.shape[:-1] + (to_forecast.shape[-1] - window + 1, window)\n",
    "    strides = to_forecast.strides + (to_forecast.strides[-1],)\n",
    "    X = np.lib.stride_tricks.as_strided(to_forecast, \n",
    "                                        shape=shape, \n",
    "                                        strides=strides)\n",
    "    y = np.array([X[i+horizon][-1] for i in range(len(X)-horizon)])\n",
    "    return X[:-horizon], y\n",
    "\n",
    "k = 4   # number of previous observations to use\n",
    "h = 1   # forecast horizon\n",
    "X,y = organize_data(train_data['data.attrs.delay'].values, k, h)"
   ]
  },
  {
   "cell_type": "code",
   "execution_count": null,
   "metadata": {
    "collapsed": false,
    "deletable": true,
    "editable": true
   },
   "outputs": [],
   "source": [
    "from sklearn.linear_model import LinearRegression\n",
    " \n",
    "m = 100 # number of samples to take in account\n",
    "regressor = LinearRegression(normalize=True)\n",
    "regressor.fit(X[:m], y[:m])"
   ]
  },
  {
   "cell_type": "code",
   "execution_count": null,
   "metadata": {
    "collapsed": false,
    "deletable": true,
    "editable": true
   },
   "outputs": [],
   "source": [
    "def mape(ypred, ytrue):\n",
    "    \"\"\" returns the mean absolute percentage error \"\"\"\n",
    "    idx = ytrue != 0.0\n",
    "    return 100*np.mean(np.abs(ypred[idx]-ytrue[idx])/ytrue[idx])\n",
    "\n",
    "print 'The error is %0.2f%%' % mape(regressor.predict(X[m:]),y[m:])"
   ]
  },
  {
   "cell_type": "code",
   "execution_count": null,
   "metadata": {
    "collapsed": false,
    "deletable": true,
    "editable": true
   },
   "outputs": [],
   "source": [
    "plt.figure(figsize=(8,6))\n",
    "plt.plot(train_data['data.attrs.delay'].values, label='True demand', color='#377EB8', linewidth=0.8)\n",
    "plt.plot(regressor.predict(X),'--', color='#EB3737', linewidth=0.8, label='Prediction')\n",
    "plt.plot(train_data['data.attrs.delay'].values[:m], label='Train data', color='#3700B8', linewidth=0.8)\n",
    "plt.legend(loc='upper right')\n",
    "plt.ylabel('beer consumed (millions of litres)')\n",
    "plt.show()"
   ]
  },
  {
   "cell_type": "code",
   "execution_count": null,
   "metadata": {
    "collapsed": true,
    "deletable": true,
    "editable": true
   },
   "outputs": [],
   "source": []
  }
 ],
 "metadata": {
  "kernelspec": {
   "display_name": "Python 2",
   "language": "python",
   "name": "python2"
  },
  "language_info": {
   "codemirror_mode": {
    "name": "ipython",
    "version": 2
   },
   "file_extension": ".py",
   "mimetype": "text/x-python",
   "name": "python",
   "nbconvert_exporter": "python",
   "pygments_lexer": "ipython2",
   "version": "2.7.12"
  }
 },
 "nbformat": 4,
 "nbformat_minor": 1
}
