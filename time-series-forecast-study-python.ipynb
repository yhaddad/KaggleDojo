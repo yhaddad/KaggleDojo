{
 "cells": [
  {
   "cell_type": "markdown",
   "metadata": {
    "deletable": true,
    "editable": true
   },
   "source": [
    "## Load traffic data\n",
    "\n"
   ]
  },
  {
   "cell_type": "code",
   "execution_count": 1,
   "metadata": {
    "collapsed": false,
    "deletable": true,
    "editable": true
   },
   "outputs": [],
   "source": [
    "import urllib, json, objectpath\n",
    "from pprint import pprint"
   ]
  },
  {
   "cell_type": "code",
   "execution_count": 2,
   "metadata": {
    "collapsed": true,
    "deletable": true,
    "editable": true
   },
   "outputs": [],
   "source": [
    "def get_data(route):\n",
    "    response = urllib.urlopen('http://pendlr.risc-software.at/log?id=[\"%s\"]&num=10000' % route)\n",
    "    data = json.loads(response.read())\n",
    "    tree_obj = objectpath.Tree(data)\n",
    "    return tuple(tree_obj.execute('$..entries'))\n",
    "def get_route():\n",
    "    response = urllib.urlopen('http://pendlr.risc-software.at/log?num=10000')\n",
    "    data = json.loads(response.read())\n",
    "    tree_obj = objectpath.Tree(data)\n",
    "    return tuple(tree_obj.execute('$..id'))"
   ]
  },
  {
   "cell_type": "markdown",
   "metadata": {
    "deletable": true,
    "editable": true
   },
   "source": [
    "The methods above will return json files with the relevent inforamtion, the routes names and the corresponding json.\n",
    "\n",
    "Todo:\n",
    "* Get the direction and see which route in close to another\n",
    "* Merge the current traffic data with the weather data \n",
    "* make correlations between weather and traffic"
   ]
  },
  {
   "cell_type": "code",
   "execution_count": 3,
   "metadata": {
    "collapsed": false,
    "deletable": true,
    "editable": true
   },
   "outputs": [
    {
     "name": "stdout",
     "output_type": "stream",
     "text": [
      "-- route :  cur.traun.b1.traffic.risc-software.at\n",
      "-- route :  cur.zentrum.b129.traffic.risc-software.at\n",
      "-- route :  cur.bindermichl.b1.traffic.risc-software.at\n",
      "-- route :  cur.franzosenhausweg.knotenlinz.traffic.risc-software.at\n",
      "-- route :  cur.einwaerts.bindermichl.traffic.risc-software.at\n",
      "-- route :  cur.urfahr.b127.traffic.risc-software.at\n",
      "-- route :  cur.einwaerts.haselgraben.traffic.risc-software.at\n",
      "-- route :  cur.florianerstrasse.knotenlinz.traffic.risc-software.at\n",
      "-- route :  cur.auswaerts.haselgraben.traffic.risc-software.at\n",
      "-- route :  cur.linz.autobahnbruecke.traffic.risc-software.at\n",
      "-- route :  cur.linz.steyreggerbruecke.traffic.risc-software.at\n",
      "-- route :  cur.zentrum.nibelungenbruecke.traffic.risc-software.at\n",
      "-- route :  cur.rohrbach.b127.traffic.risc-software.at\n",
      "-- route :  cur.urfahr.nibelungenbruecke.traffic.risc-software.at\n",
      "-- route :  cur.wilhering.b129.traffic.risc-software.at\n",
      "-- route :  cur.steyregg.steyreggerbruecke.traffic.risc-software.at\n",
      "-- route :  cur.urfahr.autobahnbruecke.traffic.risc-software.at\n",
      "-- route :  cur.auswaerts.bindermichl.traffic.risc-software.at\n",
      "-- route :  cur.haid.knotenlinz.traffic.risc-software.at\n"
     ]
    }
   ],
   "source": [
    "routes = get_route()\n",
    "cur_data   = {}\n",
    "\n",
    "for r in routes :\n",
    "    if 'cur.' in r:\n",
    "        print \"-- route : \", r\n",
    "        cur_data[r] = get_data(r)"
   ]
  },
  {
   "cell_type": "code",
   "execution_count": 4,
   "metadata": {
    "collapsed": false,
    "deletable": true,
    "editable": true
   },
   "outputs": [
    {
     "name": "stdout",
     "output_type": "stream",
     "text": [
      "{u'data': {u'attrs': {u'average_speed': 57.6,\n",
      "                      u'delay': 7,\n",
      "                      u'delayed_average_speed': 54.0,\n",
      "                      u'distance': [10002],\n",
      "                      u'duration': [622],\n",
      "                      u'duration_in_traffic': [629],\n",
      "                      u'total_distance': 10002,\n",
      "                      u'total_duration': 622,\n",
      "                      u'total_duration_in_traffic': 629},\n",
      "           u'nip': u'193.170.32.31',\n",
      "           u'o_id': u'cur.urfahr.b127.traffic.risc-software.at'},\n",
      " u'latency': 172711,\n",
      " u'ts': 1486392600000}\n",
      "{u'data': {u'attrs': {u'average_speed': 54.0,\n",
      "                      u'delay': 82,\n",
      "                      u'delayed_average_speed': 50.4,\n",
      "                      u'distance': [9988],\n",
      "                      u'duration': [625],\n",
      "                      u'duration_in_traffic': [707],\n",
      "                      u'total_distance': 9988,\n",
      "                      u'total_duration': 625,\n",
      "                      u'total_duration_in_traffic': 707},\n",
      "           u'nip': u'193.170.32.31',\n",
      "           u'o_id': u'cur.rohrbach.b127.traffic.risc-software.at'},\n",
      " u'latency': 163788,\n",
      " u'ts': 1486392600000}\n",
      "'---------------------'\n",
      "{u'data': {u'attrs': {u'average_speed': 39.6,\n",
      "                      u'delay': 6,\n",
      "                      u'delayed_average_speed': 39.6,\n",
      "                      u'distance': [4316],\n",
      "                      u'duration': [362],\n",
      "                      u'duration_in_traffic': [368],\n",
      "                      u'total_distance': 4316,\n",
      "                      u'total_duration': 362,\n",
      "                      u'total_duration_in_traffic': 368},\n",
      "           u'nip': u'193.170.32.31',\n",
      "           u'o_id': u'cur.wilhering.b129.traffic.risc-software.at'},\n",
      " u'latency': 163673,\n",
      " u'ts': 1486392000000}\n",
      "{u'data': {u'attrs': {u'average_speed': 39.6,\n",
      "                      u'delay': 304,\n",
      "                      u'delayed_average_speed': 21.6,\n",
      "                      u'distance': [4084],\n",
      "                      u'duration': [358],\n",
      "                      u'duration_in_traffic': [662],\n",
      "                      u'total_distance': 4084,\n",
      "                      u'total_duration': 358,\n",
      "                      u'total_duration_in_traffic': 662},\n",
      "           u'nip': u'193.170.32.31',\n",
      "           u'o_id': u'cur.zentrum.b129.traffic.risc-software.at'},\n",
      " u'latency': 169418,\n",
      " u'ts': 1486392600000}\n"
     ]
    }
   ],
   "source": [
    "pprint(cur_data['cur.urfahr.b127.traffic.risc-software.at'  ][0])\n",
    "pprint(cur_data['cur.rohrbach.b127.traffic.risc-software.at'][0])\n",
    "pprint(\"---------------------\")\n",
    "pprint(cur_data['cur.wilhering.b129.traffic.risc-software.at' ][0])\n",
    "pprint(cur_data['cur.zentrum.b129.traffic.risc-software.at'   ][0])"
   ]
  },
  {
   "cell_type": "markdown",
   "metadata": {
    "deletable": true,
    "editable": true
   },
   "source": [
    "From these output, we can see that that the usefull features would be the following:\n",
    "\n",
    "```json\n",
    "{u'attrs': {\n",
    "      'average_speed'            : 39.6,\n",
    "      'delay'                    : 8,\n",
    "      'delayed_average_speed'    : 39.6,\n",
    "      'total_distance'           : 4084,\n",
    "      'total_duration'           : 359,\n",
    "      'total_duration_in_traffic': 367\n",
    "      }\n",
    "}\n",
    "```\n",
    "\n",
    "For example the `total_duration` and `duration` are shown be on the same values. So one question rises, why `duration` here is a list and why it has the same value as the total one. "
   ]
  },
  {
   "cell_type": "code",
   "execution_count": 5,
   "metadata": {
    "collapsed": false,
    "deletable": true,
    "editable": true
   },
   "outputs": [],
   "source": [
    "import pandas as pd \n",
    "from pandas.io.json import json_normalize"
   ]
  },
  {
   "cell_type": "code",
   "execution_count": 6,
   "metadata": {
    "collapsed": false,
    "deletable": true,
    "editable": true
   },
   "outputs": [
    {
     "name": "stdout",
     "output_type": "stream",
     "text": [
      "-- route :  cur.wilhering.b129.traffic.risc-software.at\n",
      "-- route :  cur.zentrum.nibelungenbruecke.traffic.risc-software.at\n",
      "-- route :  cur.haid.knotenlinz.traffic.risc-software.at\n",
      "-- route :  cur.bindermichl.b1.traffic.risc-software.at\n",
      "-- route :  cur.urfahr.autobahnbruecke.traffic.risc-software.at\n",
      "-- route :  cur.florianerstrasse.knotenlinz.traffic.risc-software.at\n",
      "-- route :  cur.urfahr.nibelungenbruecke.traffic.risc-software.at\n",
      "-- route :  cur.urfahr.b127.traffic.risc-software.at\n",
      "-- route :  cur.rohrbach.b127.traffic.risc-software.at\n",
      "-- route :  cur.franzosenhausweg.knotenlinz.traffic.risc-software.at\n",
      "-- route :  cur.zentrum.b129.traffic.risc-software.at\n",
      "-- route :  cur.linz.autobahnbruecke.traffic.risc-software.at\n",
      "-- route :  cur.linz.steyreggerbruecke.traffic.risc-software.at\n",
      "-- route :  cur.einwaerts.haselgraben.traffic.risc-software.at\n",
      "-- route :  cur.einwaerts.bindermichl.traffic.risc-software.at\n",
      "-- route :  cur.traun.b1.traffic.risc-software.at\n",
      "-- route :  cur.auswaerts.haselgraben.traffic.risc-software.at\n",
      "-- route :  cur.steyregg.steyreggerbruecke.traffic.risc-software.at\n",
      "-- route :  cur.auswaerts.bindermichl.traffic.risc-software.at\n"
     ]
    }
   ],
   "source": [
    "cur_df = {}\n",
    "for c in cur_data:\n",
    "    print '-- route : ', c\n",
    "    cur_df[c] = json_normalize(cur_data[c])"
   ]
  },
  {
   "cell_type": "markdown",
   "metadata": {
    "deletable": true,
    "editable": true
   },
   "source": [
    "After the normalisation of the json file, to make it easy to read, someone can use one root to extract the all the available features. But earlier we showed the most interetsing features so we are going to take those as the feature that we want to analyse"
   ]
  },
  {
   "cell_type": "code",
   "execution_count": 7,
   "metadata": {
    "collapsed": false,
    "deletable": true,
    "editable": true
   },
   "outputs": [],
   "source": [
    "feat_traffic =  [\n",
    "    'time',\n",
    "    'data.attrs.delay'                    ,\n",
    "    'data.attrs.average_speed'            ,\n",
    "    'data.attrs.delayed_average_speed'    ,\n",
    "    'data.attrs.total_distance'           ,\n",
    "    'data.attrs.total_duration'           ,\n",
    "    'data.attrs.total_duration_in_traffic'\n",
    "]"
   ]
  },
  {
   "cell_type": "markdown",
   "metadata": {
    "deletable": true,
    "editable": true
   },
   "source": [
    "### Running an example on just one route\n",
    "\n",
    "let selection the `b129` root one of busiest route,"
   ]
  },
  {
   "cell_type": "code",
   "execution_count": 8,
   "metadata": {
    "collapsed": false,
    "deletable": true,
    "editable": true
   },
   "outputs": [],
   "source": [
    "import numpy as np\n",
    "\n",
    "df_routes = {}\n",
    "for i,c in cur_df.items():\n",
    "    _df_ = c\n",
    "    _df_['time'] = pd.to_datetime(_df_['ts']/1000.0, unit='s')\n",
    "    df_routes[i] = _df_[feat_traffic]"
   ]
  },
  {
   "cell_type": "code",
   "execution_count": 9,
   "metadata": {
    "collapsed": false,
    "deletable": true,
    "editable": true
   },
   "outputs": [
    {
     "data": {
      "text/plain": [
       "[u'cur.wilhering.b129.traffic.risc-software.at',\n",
       " u'cur.zentrum.nibelungenbruecke.traffic.risc-software.at',\n",
       " u'cur.haid.knotenlinz.traffic.risc-software.at',\n",
       " u'cur.bindermichl.b1.traffic.risc-software.at',\n",
       " u'cur.urfahr.autobahnbruecke.traffic.risc-software.at',\n",
       " u'cur.florianerstrasse.knotenlinz.traffic.risc-software.at',\n",
       " u'cur.urfahr.nibelungenbruecke.traffic.risc-software.at',\n",
       " u'cur.urfahr.b127.traffic.risc-software.at',\n",
       " u'cur.rohrbach.b127.traffic.risc-software.at',\n",
       " u'cur.franzosenhausweg.knotenlinz.traffic.risc-software.at',\n",
       " u'cur.zentrum.b129.traffic.risc-software.at',\n",
       " u'cur.linz.autobahnbruecke.traffic.risc-software.at',\n",
       " u'cur.linz.steyreggerbruecke.traffic.risc-software.at',\n",
       " u'cur.einwaerts.haselgraben.traffic.risc-software.at',\n",
       " u'cur.einwaerts.bindermichl.traffic.risc-software.at',\n",
       " u'cur.traun.b1.traffic.risc-software.at',\n",
       " u'cur.auswaerts.haselgraben.traffic.risc-software.at',\n",
       " u'cur.steyregg.steyreggerbruecke.traffic.risc-software.at',\n",
       " u'cur.auswaerts.bindermichl.traffic.risc-software.at']"
      ]
     },
     "execution_count": 9,
     "metadata": {},
     "output_type": "execute_result"
    }
   ],
   "source": [
    "df_routes.keys()"
   ]
  },
  {
   "cell_type": "code",
   "execution_count": 10,
   "metadata": {
    "collapsed": false,
    "deletable": true,
    "editable": true
   },
   "outputs": [],
   "source": [
    "import time\n",
    "from dateutil import parser, rrule\n",
    "from datetime import datetime, time, date\n",
    "\n",
    "def uniformise_dataframe(data = pd.DataFrame()):\n",
    "    print \"shape :: \", data.shape\n",
    "    data_copy = data\n",
    "    data_copy.is_copy = False\n",
    "    data_copy['minute'] = data_copy.time.apply(lambda x: datetime(x.year, x.month, x.day, x.hour, x.minute) )\n",
    "    data_copy = data_copy.reset_index().groupby(['minute']).mean()\n",
    "    data_copy.reset_index(inplace=True)\n",
    "    data_copy = data_copy.set_index(data_copy.minute.values)\n",
    "    data_copy = data_copy.drop('minute', 1)\n",
    "    data_copy = data_copy.drop('index' , 1)\n",
    "    return data_copy"
   ]
  },
  {
   "cell_type": "code",
   "execution_count": 11,
   "metadata": {
    "collapsed": false,
    "deletable": true,
    "editable": true,
    "scrolled": false
   },
   "outputs": [
    {
     "name": "stdout",
     "output_type": "stream",
     "text": [
      "shape ::  (10000, 7)\n",
      "(10000, 6)\n",
      "shape ::  (10000, 7)\n",
      "(10000, 6)\n",
      "shape ::  (10000, 7)\n",
      "(10000, 6)\n",
      "shape ::  (10000, 7)\n",
      "(10000, 6)\n",
      "shape ::  (10000, 7)\n",
      "(10000, 6)\n",
      "shape ::  (10000, 7)\n",
      "(10000, 6)\n",
      "shape ::  (10000, 7)\n",
      "(10000, 6)\n",
      "shape ::  (10000, 7)\n",
      "(10000, 6)\n",
      "shape ::  (10000, 7)\n",
      "(10000, 6)\n",
      "shape ::  (10000, 7)\n",
      "(10000, 6)\n",
      "shape ::  (10000, 7)\n",
      "(10000, 6)\n",
      "shape ::  (10000, 7)\n",
      "(10000, 6)\n",
      "shape ::  (10000, 7)\n",
      "(10000, 6)\n",
      "shape ::  (10000, 7)\n",
      "(10000, 6)\n",
      "shape ::  (10000, 7)\n",
      "(10000, 6)\n",
      "shape ::  (10000, 7)\n",
      "(10000, 6)\n",
      "shape ::  (10000, 7)\n",
      "(10000, 6)\n",
      "shape ::  (10000, 7)\n",
      "(10000, 6)\n",
      "shape ::  (10000, 7)\n",
      "(10000, 6)\n"
     ]
    }
   ],
   "source": [
    "for i in df_routes.keys():\n",
    "    df_routes[i] = uniformise_dataframe(df_routes[i])\n",
    "    print df_routes[i].shape"
   ]
  },
  {
   "cell_type": "markdown",
   "metadata": {
    "deletable": true,
    "editable": true
   },
   "source": [
    "Let combine the two dataframe for a single datset"
   ]
  },
  {
   "cell_type": "markdown",
   "metadata": {
    "deletable": true,
    "editable": true
   },
   "source": [
    "Now let build some seasonal features such as :\n",
    "* day of the year \n",
    "* hour in the day : we know that there is a reccurences during the day on the delay, for example when going for work\n",
    "* day of the week : the delay should be different from weekend day then a working day"
   ]
  },
  {
   "cell_type": "code",
   "execution_count": 12,
   "metadata": {
    "collapsed": true,
    "deletable": true,
    "editable": true
   },
   "outputs": [],
   "source": [
    "feat_time = ['day','dow','hod','working_day']\n",
    "\n",
    "def fill_timefeatures(data = pd.DataFrame()):\n",
    "    print \"shape :: \", data.shape\n",
    "    data_copy         = data\n",
    "    data_copy.is_copy = False\n",
    "    data_copy['day' ] = data.index.date\n",
    "    data_copy['dow' ] = data.index.weekday   \n",
    "    data_copy['hod' ] = data.index.hour\n",
    "    # Is each time stamp on a working day (Mon-Fri)\n",
    "    data_copy['working_day'] = (data_copy['dow'] >= 0) & (data_copy['dow'] <= 4)\n",
    "    return data_copy"
   ]
  },
  {
   "cell_type": "code",
   "execution_count": 159,
   "metadata": {
    "collapsed": false,
    "deletable": true,
    "editable": true
   },
   "outputs": [
    {
     "name": "stdout",
     "output_type": "stream",
     "text": [
      "shape ::  (10000, 10)\n",
      "(10000, 10)\n",
      "shape ::  (10000, 10)\n",
      "(10000, 10)\n",
      "shape ::  (10000, 10)\n",
      "(10000, 10)\n",
      "shape ::  (10000, 10)\n",
      "(10000, 10)\n",
      "shape ::  (10000, 10)\n",
      "(10000, 10)\n",
      "shape ::  (10000, 10)\n",
      "(10000, 10)\n",
      "shape ::  (10000, 10)\n",
      "(10000, 10)\n",
      "shape ::  (10000, 10)\n",
      "(10000, 10)\n",
      "shape ::  (10000, 10)\n",
      "(10000, 10)\n",
      "shape ::  (10000, 10)\n",
      "(10000, 10)\n",
      "shape ::  (10000, 10)\n",
      "(10000, 10)\n",
      "shape ::  (10000, 10)\n",
      "(10000, 10)\n",
      "shape ::  (10000, 10)\n",
      "(10000, 10)\n",
      "shape ::  (10000, 10)\n",
      "(10000, 10)\n",
      "shape ::  (10000, 10)\n",
      "(10000, 10)\n",
      "shape ::  (10000, 10)\n",
      "(10000, 10)\n",
      "shape ::  (10000, 10)\n",
      "(10000, 10)\n",
      "shape ::  (10000, 10)\n",
      "(10000, 10)\n",
      "shape ::  (10000, 10)\n",
      "(10000, 10)\n"
     ]
    }
   ],
   "source": [
    "for i in df_routes.keys():\n",
    "    df_routes[i] = fill_timefeatures(df_routes[i])\n",
    "    df_routes[i].to_csv( i + '.csv')\n",
    "    print df_routes[i].shape"
   ]
  },
  {
   "cell_type": "markdown",
   "metadata": {
    "deletable": true,
    "editable": true
   },
   "source": [
    "Let create a calendar vosualtion of the average delay"
   ]
  },
  {
   "cell_type": "code",
   "execution_count": null,
   "metadata": {
    "collapsed": false,
    "deletable": true,
    "editable": true,
    "scrolled": false
   },
   "outputs": [],
   "source": [
    "import matplotlib.pyplot as plt\n",
    "import calmap\n",
    "import numpy  as np\n",
    "import pandas as pd\n",
    "from matplotlib import dates\n",
    "\n",
    "%matplotlib inline\n",
    "feature  =  ['data.attrs.delay'] \n",
    "\n",
    "for i,c in df_routes.items():\n",
    "    for ft in feature:\n",
    "        print ft ,' : ', i \n",
    "        dev_sr = pd.Series(c[ft].values, index=c.index)\n",
    "        plt.figure(figsize=(14,5))\n",
    "        calmap.yearplot(dev_sr, year=2017)\n",
    "        plt.title(ft + ' : ' +  i )"
   ]
  },
  {
   "cell_type": "code",
   "execution_count": null,
   "metadata": {
    "collapsed": false,
    "deletable": true,
    "editable": true,
    "scrolled": false
   },
   "outputs": [],
   "source": [
    "for i,c in df_routes.items():\n",
    "    for feat in feature:\n",
    "        print feat ,' : ', i \n",
    "        dev_sr = pd.Series(c[feat].values, index=c.index)\n",
    "        plt.figure(figsize=(14,2))\n",
    "        plt.plot(dev_sr)\n",
    "        plt.title(feat + ' : ' +  i )"
   ]
  },
  {
   "cell_type": "code",
   "execution_count": null,
   "metadata": {
    "collapsed": false,
    "deletable": true,
    "editable": true,
    "scrolled": false
   },
   "outputs": [],
   "source": [
    "for i,c in df_routes.items():\n",
    "    for ft in feature:\n",
    "        print feat ,' : ', i \n",
    "        dev_sr = pd.Series(c[ft].values, index=c.index)\n",
    "        plt.figure(figsize=(14,2))\n",
    "        plt.plot(dev_sr[len(dev_sr)-600:])\n",
    "        plt.plot(dev_sr[len(dev_sr)-300:], c='red', label='used')\n",
    "        plt.title(feat + ' : ' +  i )"
   ]
  },
  {
   "cell_type": "markdown",
   "metadata": {},
   "source": [
    "## Forcasting using ARMA method :  ARMA (Autoregressive mouving average)"
   ]
  },
  {
   "cell_type": "code",
   "execution_count": 139,
   "metadata": {
    "collapsed": true
   },
   "outputs": [],
   "source": [
    "import numpy as np\n",
    "from scipy import stats\n",
    "import pandas as pd\n",
    "import matplotlib.pyplot as plt\n",
    "%matplotlib inline\n",
    "\n",
    "import statsmodels.api as sm"
   ]
  },
  {
   "cell_type": "code",
   "execution_count": 140,
   "metadata": {
    "collapsed": false
   },
   "outputs": [],
   "source": [
    "series = pd.Series(df_routes['cur.zentrum.b129.traffic.risc-software.at']['data.attrs.delay'].values, \n",
    "                   index = df_routes['cur.zentrum.b129.traffic.risc-software.at'].index,\n",
    "                   dtype = np.dtype('float64')\n",
    "                  )"
   ]
  },
  {
   "cell_type": "code",
   "execution_count": 141,
   "metadata": {
    "collapsed": false
   },
   "outputs": [
    {
     "data": {
      "text/plain": [
       "2017-02-06 14:50:00    304.0\n",
       "2017-02-06 15:00:00      1.0\n",
       "2017-02-06 15:10:00     14.0\n",
       "2017-02-06 15:20:00     48.0\n",
       "2017-02-06 15:30:00     83.0\n",
       "2017-02-06 15:40:00    222.0\n",
       "2017-02-06 15:50:00    142.0\n",
       "2017-02-06 16:00:00    119.0\n",
       "2017-02-06 16:10:00    148.0\n",
       "2017-02-06 16:20:00    134.0\n",
       "2017-02-06 16:30:00    103.0\n",
       "2017-02-06 16:40:00     97.0\n",
       "2017-02-06 16:50:00     69.0\n",
       "2017-02-06 17:00:00     48.0\n",
       "2017-02-06 17:10:00     33.0\n",
       "2017-02-06 17:20:00      1.0\n",
       "2017-02-06 17:30:00      2.0\n",
       "2017-02-06 17:40:00      3.0\n",
       "2017-02-06 17:50:00      0.0\n",
       "2017-02-06 18:00:00      0.0\n",
       "2017-02-06 18:10:00      0.0\n",
       "2017-02-06 18:20:00      0.0\n",
       "2017-02-06 18:30:00      0.0\n",
       "2017-02-06 18:40:00      0.0\n",
       "2017-02-06 18:50:00      0.0\n",
       "2017-02-06 19:00:00      0.0\n",
       "2017-02-06 19:10:00      0.0\n",
       "2017-02-06 19:20:00      0.0\n",
       "2017-02-06 19:30:00      0.0\n",
       "2017-02-06 19:40:00      0.0\n",
       "                       ...  \n",
       "2017-04-18 03:40:00      0.0\n",
       "2017-04-18 03:50:00      9.0\n",
       "2017-04-18 04:00:00     12.0\n",
       "2017-04-18 04:10:00     14.0\n",
       "2017-04-18 04:20:00     53.0\n",
       "2017-04-18 04:30:00     58.0\n",
       "2017-04-18 04:40:00     23.0\n",
       "2017-04-18 04:50:00     69.0\n",
       "2017-04-18 05:00:00     92.0\n",
       "2017-04-18 05:10:00     64.0\n",
       "2017-04-18 05:20:00     52.0\n",
       "2017-04-18 05:30:00     42.0\n",
       "2017-04-18 05:40:00     75.0\n",
       "2017-04-18 05:50:00     76.0\n",
       "2017-04-18 06:00:00     70.0\n",
       "2017-04-18 06:10:00     63.0\n",
       "2017-04-18 06:20:00     36.0\n",
       "2017-04-18 06:30:00     90.0\n",
       "2017-04-18 06:40:00     34.0\n",
       "2017-04-18 06:50:00     28.0\n",
       "2017-04-18 07:00:00     32.0\n",
       "2017-04-18 07:10:00     18.0\n",
       "2017-04-18 07:20:00      8.0\n",
       "2017-04-18 07:30:00      0.0\n",
       "2017-04-18 07:40:00      0.0\n",
       "2017-04-18 07:50:00      0.0\n",
       "2017-04-18 08:00:00      8.0\n",
       "2017-04-18 08:10:00     12.0\n",
       "2017-04-18 08:20:00     16.0\n",
       "2017-04-18 08:30:00     12.0\n",
       "dtype: float64"
      ]
     },
     "execution_count": 141,
     "metadata": {},
     "output_type": "execute_result"
    }
   ],
   "source": [
    "one_day = 144\n",
    "series"
   ]
  },
  {
   "cell_type": "code",
   "execution_count": 142,
   "metadata": {
    "collapsed": false
   },
   "outputs": [
    {
     "data": {
      "text/plain": [
       "numpy.ndarray"
      ]
     },
     "execution_count": 142,
     "metadata": {},
     "output_type": "execute_result"
    }
   ],
   "source": [
    "type(series.values)\n"
   ]
  },
  {
   "cell_type": "code",
   "execution_count": 143,
   "metadata": {
    "collapsed": false
   },
   "outputs": [
    {
     "data": {
      "image/png": "[encoded data removed]",
      "text/plain": [
       "<matplotlib.figure.Figure at 0x7ff4e4b47f10>"
      ]
     },
     "metadata": {},
     "output_type": "display_data"
    }
   ],
   "source": [
    "series[-4*one_day:].plot(figsize=(16,3));"
   ]
  },
  {
   "cell_type": "code",
   "execution_count": 144,
   "metadata": {
    "collapsed": false
   },
   "outputs": [
    {
     "data": {
      "image/png": "[encoded data removed]",
      "text/plain": [
       "<matplotlib.figure.Figure at 0x7ff4e3580190>"
      ]
     },
     "metadata": {},
     "output_type": "display_data"
    }
   ],
   "source": [
    "fig = plt.figure(figsize=(16,7))\n",
    "ax1 = fig.add_subplot(211)\n",
    "fig = sm.graphics.tsa.plot_acf(series.values.squeeze(), lags=40, ax=ax1)\n",
    "ax2 = fig.add_subplot(212)\n",
    "fig = sm.graphics.tsa.plot_pacf(series, lags=40, ax=ax2)"
   ]
  },
  {
   "cell_type": "code",
   "execution_count": 145,
   "metadata": {
    "collapsed": false
   },
   "outputs": [
    {
     "name": "stdout",
     "output_type": "stream",
     "text": [
      "const      8.895081\n",
      "ar.L1.y    0.547620\n",
      "ar.L2.y    0.108923\n",
      "ar.L3.y   -0.011603\n",
      "ma.L1.y   -0.227789\n",
      "dtype: float64\n"
     ]
    }
   ],
   "source": [
    "arma_mod20 = sm.tsa.ARMA(series[-4*one_day:], (3,1)).fit()\n",
    "print(arma_mod20.params)"
   ]
  },
  {
   "cell_type": "code",
   "execution_count": 146,
   "metadata": {
    "collapsed": true
   },
   "outputs": [],
   "source": [
    "arma_mod30 = sm.tsa.ARMA(series[-4*one_day:], (3,0)).fit()"
   ]
  },
  {
   "cell_type": "code",
   "execution_count": 147,
   "metadata": {
    "collapsed": false
   },
   "outputs": [
    {
     "name": "stdout",
     "output_type": "stream",
     "text": [
      "(5689.900363194119, 5716.0370091582936, 5700.0933574377168)\n"
     ]
    }
   ],
   "source": [
    "print(arma_mod20.aic, arma_mod20.bic, arma_mod20.hqic)"
   ]
  },
  {
   "cell_type": "code",
   "execution_count": 148,
   "metadata": {
    "collapsed": false
   },
   "outputs": [
    {
     "name": "stdout",
     "output_type": "stream",
     "text": [
      "const      8.895547\n",
      "ar.L1.y    0.320158\n",
      "ar.L2.y    0.183315\n",
      "ar.L3.y    0.032143\n",
      "dtype: float64\n"
     ]
    }
   ],
   "source": [
    "print(arma_mod30.params)"
   ]
  },
  {
   "cell_type": "code",
   "execution_count": 149,
   "metadata": {
    "collapsed": false
   },
   "outputs": [
    {
     "data": {
      "text/plain": [
       "1.9994580012362533"
      ]
     },
     "execution_count": 149,
     "metadata": {},
     "output_type": "execute_result"
    }
   ],
   "source": [
    "sm.stats.durbin_watson(arma_mod30.resid.values)"
   ]
  },
  {
   "cell_type": "code",
   "execution_count": 150,
   "metadata": {
    "collapsed": false
   },
   "outputs": [
    {
     "data": {
      "image/png": "[encoded data removed]",
      "text/plain": [
       "<matplotlib.figure.Figure at 0x7ff4e35d2410>"
      ]
     },
     "metadata": {},
     "output_type": "display_data"
    }
   ],
   "source": [
    "fig = plt.figure(figsize=(16,3))\n",
    "ax = fig.add_subplot(111)\n",
    "ax = arma_mod30.resid.plot(ax=ax);"
   ]
  },
  {
   "cell_type": "code",
   "execution_count": 151,
   "metadata": {
    "collapsed": false
   },
   "outputs": [
    {
     "data": {
      "text/plain": [
       "NormaltestResult(statistic=1063.4232587561035, pvalue=1.2038528280457249e-231)"
      ]
     },
     "execution_count": 151,
     "metadata": {},
     "output_type": "execute_result"
    }
   ],
   "source": [
    "resid = arma_mod30.resid\n",
    "stats.normaltest(resid)"
   ]
  },
  {
   "cell_type": "code",
   "execution_count": 152,
   "metadata": {
    "collapsed": false
   },
   "outputs": [
    {
     "data": {
      "image/png": "[encoded data removed]",
      "text/plain": [
       "<matplotlib.figure.Figure at 0x7ff4e3926310>"
      ]
     },
     "metadata": {},
     "output_type": "display_data"
    }
   ],
   "source": [
    "from statsmodels.graphics.api import qqplot\n",
    "\n",
    "fig = plt.figure(figsize=(5,5))\n",
    "ax = fig.add_subplot(111)\n",
    "fig = qqplot(resid, line='q', ax=ax, fit=True)"
   ]
  },
  {
   "cell_type": "code",
   "execution_count": 153,
   "metadata": {
    "collapsed": false
   },
   "outputs": [
    {
     "data": {
      "image/png": "[encoded data removed]",
      "text/plain": [
       "<matplotlib.figure.Figure at 0x7ff4e3f5ddd0>"
      ]
     },
     "metadata": {},
     "output_type": "display_data"
    }
   ],
   "source": [
    "fig = plt.figure(figsize=(12,6))\n",
    "ax1 = fig.add_subplot(211)\n",
    "fig = sm.graphics.tsa.plot_acf(resid.values.squeeze(), lags=40, ax=ax1)\n",
    "ax2 = fig.add_subplot(212)\n",
    "fig = sm.graphics.tsa.plot_pacf(resid, lags=40, ax=ax2)"
   ]
  },
  {
   "cell_type": "code",
   "execution_count": 154,
   "metadata": {
    "collapsed": false
   },
   "outputs": [
    {
     "name": "stdout",
     "output_type": "stream",
     "text": [
      "            AC         Q  Prob(>Q)\n",
      "lag                               \n",
      "1.0   0.000263  0.000040  0.994942\n",
      "2.0  -0.001166  0.000829  0.999586\n",
      "3.0  -0.003634  0.008502  0.999792\n",
      "4.0   0.009781  0.064189  0.999496\n",
      "5.0   0.017471  0.242165  0.998592\n",
      "6.0  -0.004843  0.255862  0.999683\n",
      "7.0  -0.013583  0.363818  0.999808\n",
      "8.0  -0.005128  0.379230  0.999954\n",
      "9.0  -0.001169  0.380033  0.999991\n",
      "10.0 -0.005042  0.394985  0.999998\n",
      "11.0 -0.009711  0.450552  0.999999\n",
      "12.0 -0.003406  0.457398  1.000000\n",
      "13.0 -0.005083  0.472674  1.000000\n",
      "14.0 -0.010690  0.540377  1.000000\n",
      "15.0 -0.009282  0.591509  1.000000\n",
      "16.0 -0.008940  0.639025  1.000000\n",
      "17.0 -0.010786  0.708311  1.000000\n",
      "18.0 -0.000809  0.708702  1.000000\n",
      "19.0 -0.013703  0.820935  1.000000\n",
      "20.0 -0.011435  0.899231  1.000000\n",
      "21.0 -0.009701  0.955687  1.000000\n",
      "22.0 -0.007334  0.988012  1.000000\n",
      "23.0 -0.007154  1.018823  1.000000\n",
      "24.0 -0.010387  1.083889  1.000000\n",
      "25.0 -0.008691  1.129532  1.000000\n",
      "26.0 -0.008869  1.177149  1.000000\n",
      "27.0 -0.012505  1.271987  1.000000\n",
      "28.0 -0.014891  1.406705  1.000000\n",
      "29.0 -0.019425  1.636363  1.000000\n",
      "30.0  0.037715  2.503709  1.000000\n",
      "31.0  0.015723  2.654728  1.000000\n",
      "32.0 -0.025451  3.051161  1.000000\n",
      "33.0 -0.016863  3.225505  1.000000\n",
      "34.0 -0.010789  3.297001  1.000000\n",
      "35.0 -0.012122  3.387435  1.000000\n",
      "36.0 -0.011576  3.470060  1.000000\n",
      "37.0 -0.007152  3.501651  1.000000\n",
      "38.0 -0.008633  3.547773  1.000000\n",
      "39.0 -0.010456  3.615556  1.000000\n",
      "40.0 -0.016207  3.778699  1.000000\n"
     ]
    }
   ],
   "source": [
    "r,q,p = sm.tsa.acf(resid.values.squeeze(), qstat=True)\n",
    "data = np.c_[range(1,41), r[1:], q, p]\n",
    "table = pd.DataFrame(data, columns=['lag', \"AC\", \"Q\", \"Prob(>Q)\"])\n",
    "print(table.set_index('lag'))"
   ]
  },
  {
   "cell_type": "code",
   "execution_count": 155,
   "metadata": {
    "collapsed": false
   },
   "outputs": [
    {
     "data": {
      "text/plain": [
       "[<matplotlib.lines.Line2D at 0x7ff4e4bce610>]"
      ]
     },
     "execution_count": 155,
     "metadata": {},
     "output_type": "execute_result"
    },
    {
     "data": {
      "image/png": "[encoded data removed]",
      "text/plain": [
       "<matplotlib.figure.Figure at 0x7ff4e3bb8450>"
      ]
     },
     "metadata": {},
     "output_type": "display_data"
    }
   ],
   "source": [
    "predict_sunspots = arma_mod30.predict(1*one_day,5*one_day, dynamic=True)\n",
    "\n",
    "plt.figure(figsize=(16,3))\n",
    "plt.plot(series[-4*one_day:])\n",
    "plt.plot(predict_sunspots)"
   ]
  },
  {
   "cell_type": "code",
   "execution_count": 156,
   "metadata": {
    "collapsed": false
   },
   "outputs": [
    {
     "data": {
      "text/plain": [
       "Timestamp('2017-04-17 08:40:00')"
      ]
     },
     "execution_count": 156,
     "metadata": {},
     "output_type": "execute_result"
    }
   ],
   "source": [
    "series.index[-144]"
   ]
  },
  {
   "cell_type": "code",
   "execution_count": 157,
   "metadata": {
    "collapsed": false
   },
   "outputs": [
    {
     "data": {
      "image/png": "[encoded data removed]",
      "text/plain": [
       "<matplotlib.figure.Figure at 0x7ff4e3c6a910>"
      ]
     },
     "metadata": {},
     "output_type": "display_data"
    }
   ],
   "source": [
    "fig, ax = plt.subplots(figsize=(12, 8))\n",
    "ax = series[-one_day:].plot(ax=ax)\n",
    "fig = arma_mod30.plot_predict(series.index[-6],series.index[-1] + np.timedelta64(1, 'h'), dynamic=True, ax=ax, plot_insample=False)"
   ]
  },
  {
   "cell_type": "markdown",
   "metadata": {
    "deletable": true,
    "editable": true
   },
   "source": [
    "### New method"
   ]
  },
  {
   "cell_type": "code",
   "execution_count": 158,
   "metadata": {
    "collapsed": false,
    "deletable": true,
    "editable": true,
    "scrolled": false
   },
   "outputs": [
    {
     "ename": "NameError",
     "evalue": "name 'feature' is not defined",
     "output_type": "error",
     "traceback": [
      "\u001b[0;31m---------------------------------------------------------------------------\u001b[0m",
      "\u001b[0;31mNameError\u001b[0m                                 Traceback (most recent call last)",
      "\u001b[0;32m<ipython-input-158-a616a0d4f520>\u001b[0m in \u001b[0;36m<module>\u001b[0;34m()\u001b[0m\n\u001b[1;32m     12\u001b[0m \u001b[0;34m\u001b[0m\u001b[0m\n\u001b[1;32m     13\u001b[0m \u001b[0;32mfor\u001b[0m \u001b[0mi\u001b[0m\u001b[0;34m,\u001b[0m\u001b[0mc\u001b[0m \u001b[0;32min\u001b[0m \u001b[0mdf_routes\u001b[0m\u001b[0;34m.\u001b[0m\u001b[0mitems\u001b[0m\u001b[0;34m(\u001b[0m\u001b[0;34m)\u001b[0m\u001b[0;34m:\u001b[0m\u001b[0;34m\u001b[0m\u001b[0m\n\u001b[0;32m---> 14\u001b[0;31m     \u001b[0;32mfor\u001b[0m \u001b[0mft\u001b[0m \u001b[0;32min\u001b[0m \u001b[0mfeature\u001b[0m\u001b[0;34m:\u001b[0m\u001b[0;34m\u001b[0m\u001b[0m\n\u001b[0m\u001b[1;32m     15\u001b[0m         \u001b[0;32mprint\u001b[0m \u001b[0mfeat\u001b[0m \u001b[0;34m,\u001b[0m\u001b[0;34m' : '\u001b[0m\u001b[0;34m,\u001b[0m \u001b[0mi\u001b[0m\u001b[0;34m\u001b[0m\u001b[0m\n\u001b[1;32m     16\u001b[0m         \u001b[0mserie\u001b[0m \u001b[0;34m=\u001b[0m \u001b[0mpd\u001b[0m\u001b[0;34m.\u001b[0m\u001b[0mSeries\u001b[0m\u001b[0;34m(\u001b[0m\u001b[0mc\u001b[0m\u001b[0;34m[\u001b[0m\u001b[0mft\u001b[0m\u001b[0;34m]\u001b[0m\u001b[0;34m.\u001b[0m\u001b[0mvalues\u001b[0m\u001b[0;34m,\u001b[0m \u001b[0mindex\u001b[0m\u001b[0;34m=\u001b[0m\u001b[0mc\u001b[0m\u001b[0;34m.\u001b[0m\u001b[0mindex\u001b[0m\u001b[0;34m)\u001b[0m\u001b[0;34m\u001b[0m\u001b[0m\n",
      "\u001b[0;31mNameError\u001b[0m: name 'feature' is not defined"
     ]
    }
   ],
   "source": [
    "from pandas import Series\n",
    "from statsmodels.tsa.stattools import adfuller\n",
    "\n",
    "# create a differenced series\n",
    "def difference(dataset, interval=1):\n",
    "\tdiff = list()\n",
    "\tfor i in range(interval, len(dataset)):\n",
    "\t\tvalue = dataset[i] - dataset[i - interval]\n",
    "\t\tdiff.append(value)\n",
    "\treturn Series(diff)\n",
    "\n",
    "\n",
    "for i,c in df_routes.items():\n",
    "    for ft in feature:\n",
    "        print feat ,' : ', i \n",
    "        serie = pd.Series(c[ft].values, index=c.index)\n",
    "        plt.figure(figsize=(14,2))\n",
    "        plt.title(feat + ' : ' +  i )\n",
    "        \n",
    "        X = serie[len(dev_sr)-600:].values\n",
    "        X = X.astype('float32')\n",
    "        # difference data\n",
    "        hours_in_day = 12\n",
    "        stationary = difference(X, hours_in_day)\n",
    "        stationary.index = serie[len(dev_sr)-600:].index[hours_in_day:]\n",
    "\n",
    "        # check if stationary\n",
    "        result = adfuller(stationary)\n",
    "        print('ADF Statistic: %f' % result[0])\n",
    "        print('p-value: %f' % result[1])\n",
    "        print('Critical Values:')\n",
    "        for key, value in result[4].items():\n",
    "            print('\\t%s: %.3f' % (key, value))\n",
    "        stationary.plot()\n",
    "        plt.show()"
   ]
  },
  {
   "cell_type": "code",
   "execution_count": null,
   "metadata": {
    "collapsed": true,
    "deletable": true,
    "editable": true
   },
   "outputs": [],
   "source": [
    "# invert differenced value\n",
    "def inverse_difference(history, yhat, interval=1):\n",
    "\treturn yhat + history[-interval]"
   ]
  },
  {
   "cell_type": "code",
   "execution_count": null,
   "metadata": {
    "collapsed": false,
    "deletable": true,
    "editable": true
   },
   "outputs": [],
   "source": [
    "# from pandas import Series\n",
    "# from statsmodels.graphics.tsaplots import plot_acf\n",
    "# from statsmodels.graphics.tsaplots import plot_pacf\n",
    "\n",
    "# series_sta = Series.from_csv('stationary.csv')\n",
    "\n",
    "# plt.figure(figsize=(9,4))\n",
    "# plt.subplot(211)\n",
    "# plot_acf(series_sta, ax=plt.gca(), lags=144)\n",
    "# plt.subplot(212)\n",
    "# plot_pacf(series_sta, ax=plt.gca(), lags=144)\n",
    "# plt.show()"
   ]
  },
  {
   "cell_type": "code",
   "execution_count": null,
   "metadata": {
    "collapsed": true,
    "deletable": true,
    "editable": true
   },
   "outputs": [],
   "source": [
    "from sklearn.metrics import mean_squared_error\n",
    "from statsmodels.tsa.arima_model import ARIMA\n",
    "from math import sqrt\n",
    " \n",
    "# create a differenced series\n",
    "def difference(dataset, interval=1):\n",
    "\tdiff = list()\n",
    "\tfor i in range(interval, len(dataset)):\n",
    "\t\tvalue = dataset[i] - dataset[i - interval]\n",
    "\t\tdiff.append(value)\n",
    "\treturn diff\n",
    " \n",
    "# invert differenced value\n",
    "def inverse_difference(history, yhat, interval=1):\n",
    "\treturn yhat + history[-interval]"
   ]
  },
  {
   "cell_type": "code",
   "execution_count": null,
   "metadata": {
    "collapsed": false,
    "deletable": true,
    "editable": true,
    "scrolled": false
   },
   "outputs": [],
   "source": [
    "for i,c in df_routes.items():\n",
    "    for feat in feature:\n",
    "        print feat ,' : ', i \n",
    "        serie = pd.Series(c[feat].values, index=c.index)\n",
    "        plt.figure(figsize=(14,2))\n",
    "        plt.title(feat + ' : ' +  i )\n",
    "        # prepare data\n",
    "        X = serie[len(dev_sr)-600:].values\n",
    "        X = X.astype('float32')\n",
    "        train_size  = int(len(X) * 0.50)\n",
    "        train, test = X[0:train_size], X[train_size:]\n",
    "        # walk-forward validation\n",
    "        history     = [x for x in train]\n",
    "        predictions = list()\n",
    "        for i in range(len(test)):\n",
    "            # difference data\n",
    "            months_in_year = 12\n",
    "            diff = difference(history, months_in_year)\n",
    "            # predict\n",
    "            model     = ARIMA(diff, order=(1,1,1))\n",
    "            model_fit = model.fit(trend='nc', disp=0)\n",
    "            yhat      = model_fit.forecast()[0]\n",
    "            yhat      = inverse_difference(history, yhat, months_in_year)\n",
    "            predictions.append(yhat)\n",
    "            obs = test[i]\n",
    "            history.append(obs)\n",
    "        #     print('>Predicted=%.3f, Expected=%3.f' % (yhat, obs))\n",
    "        # report performance\n",
    "        mse  = mean_squared_error(test, predictions)\n",
    "        rmse = sqrt(mse)\n",
    "        print('RMSE: %.3f' % rmse)\n",
    "        plt.plot(test, label='test')\n",
    "        plt.plot(np.abs(predictions), label='prediction')\n",
    "        plt.legend()\n",
    "        plt.show()"
   ]
  },
  {
   "cell_type": "code",
   "execution_count": null,
   "metadata": {
    "collapsed": false,
    "deletable": true,
    "editable": true
   },
   "outputs": [],
   "source": [
    "plt.figure(figsize=(12,3))\n",
    "plt.plot(test, label='test')\n",
    "plt.plot(np.abs(predictions), label='prediction')\n",
    "\n",
    "plt.legend()\n",
    "\n",
    "mse  = mean_squared_error(test, np.abs(predictions) )\n",
    "rmse = sqrt(mse)\n",
    "print('RMSE: %.3f' % rmse)"
   ]
  },
  {
   "cell_type": "code",
   "execution_count": null,
   "metadata": {
    "collapsed": false,
    "deletable": true,
    "editable": true
   },
   "outputs": [],
   "source": [
    "import warnings\n",
    "from pandas import Series\n",
    "from statsmodels.tsa.arima_model import ARIMA\n",
    "from sklearn.metrics import mean_squared_error\n",
    "from math import sqrt\n",
    "import numpy\n",
    "\n",
    "# create a differenced series\n",
    "def difference(dataset, interval=1):\n",
    "\tdiff = list()\n",
    "\tfor i in range(interval, len(dataset)):\n",
    "\t\tvalue = dataset[i] - dataset[i - interval]\n",
    "\t\tdiff.append(value)\n",
    "\treturn numpy.array(diff)\n",
    "\n",
    "# invert differenced value\n",
    "def inverse_difference(history, yhat, interval=1):\n",
    "\treturn yhat + history[-interval]\n",
    "\n",
    "# evaluate an ARIMA model for a given order (p,d,q) and return RMSE\n",
    "def evaluate_arima_model(X, arima_order):\n",
    "\t# prepare training dataset\n",
    "\tX = X.astype('float32')\n",
    "\ttrain_size = int(len(X) * 0.50)\n",
    "\ttrain, test = X[0:train_size], X[train_size:]\n",
    "\thistory = [x for x in train]\n",
    "\t# make predictions\n",
    "\tpredictions = list()\n",
    "\tfor t in range(len(test)):\n",
    "\t\t# difference data\n",
    "\t\tmonths_in_year = 12\n",
    "\t\tdiff = difference(history, months_in_year)\n",
    "\t\tmodel = ARIMA(diff, order=arima_order)\n",
    "\t\tmodel_fit = model.fit(trend='nc', disp=0)\n",
    "\t\tyhat = model_fit.forecast()[0]\n",
    "\t\tyhat = inverse_difference(history, yhat, months_in_year)\n",
    "\t\tpredictions.append(yhat)\n",
    "\t\thistory.append(test[t])\n",
    "\t# calculate out of sample error\n",
    "\tmse = mean_squared_error(test, predictions)\n",
    "\trmse = sqrt(mse)\n",
    "\treturn rmse\n",
    "\n",
    "# evaluate combinations of p, d and q values for an ARIMA model\n",
    "def evaluate_models(dataset, p_values, d_values, q_values):\n",
    "\tdataset = dataset.astype('float32')\n",
    "\tbest_score, best_cfg = float(\"inf\"), None\n",
    "\tfor p in p_values:\n",
    "\t\tfor d in d_values:\n",
    "\t\t\tfor q in q_values:\n",
    "\t\t\t\torder = (p,d,q)\n",
    "\t\t\t\ttry:\n",
    "\t\t\t\t\tmse = evaluate_arima_model(dataset, order)\n",
    "\t\t\t\t\tif mse < best_score:\n",
    "\t\t\t\t\t\tbest_score, best_cfg = mse, order\n",
    "\t\t\t\t\tprint('ARIMA%s RMSE=%.3f' % (order,mse))\n",
    "\t\t\t\texcept:\n",
    "\t\t\t\t\tcontinue\n",
    "\tprint('Best ARIMA%s RMSE=%.3f' % (best_cfg, best_score))\n",
    "\n",
    "# load dataset\n",
    "serie = serie['2017-03-13':'2017-03-26']    \n",
    "# evaluate parameters\n",
    "p_values = range(0, 2)\n",
    "d_values = range(0, 2)\n",
    "q_values = range(0, 2)\n",
    "warnings.filterwarnings(\"ignore\")\n",
    "evaluate_models(serie.values, p_values, d_values, q_values)"
   ]
  },
  {
   "cell_type": "code",
   "execution_count": null,
   "metadata": {
    "collapsed": false,
    "deletable": true,
    "editable": true,
    "scrolled": false
   },
   "outputs": [],
   "source": [
    "for i in range(len(test)):\n",
    "    # difference data\n",
    "    months_in_year = 12\n",
    "    diff = difference(history, months_in_year)\n",
    "    # predict\n",
    "    model     = ARIMA(diff, order=(1,0,1))\n",
    "    model_fit = model.fit(trend='nc', disp=0)\n",
    "    yhat      = model_fit.forecast()[0]\n",
    "    yhat      = inverse_difference(history, yhat, months_in_year)\n",
    "    predictions.append(yhat)\n",
    "    obs = test[i]\n",
    "    history.append(obs)\n",
    "    print('>Predicted=%.3f, Expected=%3.f' % (yhat, obs))"
   ]
  },
  {
   "cell_type": "code",
   "execution_count": null,
   "metadata": {
    "collapsed": false,
    "deletable": true,
    "editable": true
   },
   "outputs": [],
   "source": [
    "plt.figure(figsize=(12,3))\n",
    "plt.plot(test, label='test')\n",
    "plt.plot(np.abs(predictions), label='prediction')\n",
    "\n",
    "plt.legend()"
   ]
  },
  {
   "cell_type": "code",
   "execution_count": null,
   "metadata": {
    "collapsed": true,
    "deletable": true,
    "editable": true
   },
   "outputs": [],
   "source": [
    "[cur.linz.autobahnbruecke.traffic.risc-software.at]\n",
    "id = 'cur.linz.autobahnbruecke.traffic.risc-software.at'\n",
    "ip_address = '193.170.32.6'\n",
    "query = 'http://pendlr.risc-software.at/log?id=[\"cur.linz.autobahnbruecke.traffic.risc-software.at\"]'\n",
    "builder = 'node_builder'\n",
    "clazz = 'URLJsonCollector'\n",
    "parser='jsonparser'\n",
    "stream = 'store_stream'\n",
    "time_normalized = True\n",
    "sleep_seconds = 600 # this is for the thread\n",
    "sleep_offset = 2\n",
    "processor = 'traffic_distance_processor'\n",
    "log_type = 'urljson'\n",
    "normalized = True\n",
    "interval = 600 # modular division of the timestamp to use"
   ]
  }
 ],
 "metadata": {
  "kernelspec": {
   "display_name": "Python 2",
   "language": "python",
   "name": "python2"
  },
  "language_info": {
   "codemirror_mode": {
    "name": "ipython",
    "version": 2
   },
   "file_extension": ".py",
   "mimetype": "text/x-python",
   "name": "python",
   "nbconvert_exporter": "python",
   "pygments_lexer": "ipython2",
   "version": "2.7.12"
  }
 },
 "nbformat": 4,
 "nbformat_minor": 1
}
